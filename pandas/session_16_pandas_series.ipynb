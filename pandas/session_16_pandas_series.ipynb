{
 "cells": [
  {
   "cell_type": "markdown",
   "metadata": {
    "id": "Nkgl3LZGP0XZ"
   },
   "source": [
    "### What is Pandas\n",
    "\n",
    "Pandas is a fast, powerful, flexible and easy to use open source data analysis and manipulation tool,\n",
    "built on top of the Python programming language.\n",
    "\n",
    "https://pandas.pydata.org/about/index.html"
   ]
  },
  {
   "cell_type": "markdown",
   "metadata": {
    "id": "3QmWVpYGRw59"
   },
   "source": [
    "### Pandas Series\n",
    "\n",
    "A Pandas Series is like a column in a table. It is a 1-D array holding data of any type."
   ]
  },
  {
   "cell_type": "markdown",
   "metadata": {
    "id": "3hwTOkrbPMjE"
   },
   "source": [
    "### Importing Pandas"
   ]
  },
  {
   "cell_type": "code",
   "execution_count": 2,
   "metadata": {
    "id": "QWWCrofyPM7J"
   },
   "outputs": [],
   "source": [
    "import numpy as np\n",
    "import pandas as pd "
   ]
  },
  {
   "cell_type": "markdown",
   "metadata": {
    "id": "uU-Ms_To_FG1"
   },
   "source": [
    "### Series from lists"
   ]
  },
  {
   "cell_type": "code",
   "execution_count": 4,
   "metadata": {
    "id": "KYk9Gta7_G38"
   },
   "outputs": [
    {
     "data": {
      "text/plain": [
       "0       India\n",
       "1    Pakistan\n",
       "2         USA\n",
       "3       Nepal\n",
       "4    SriLanka\n",
       "dtype: object"
      ]
     },
     "execution_count": 4,
     "metadata": {},
     "output_type": "execute_result"
    }
   ],
   "source": [
    "# string\n",
    "country = ['India', 'Pakistan', 'USA', 'Nepal', \"SriLanka\"]\n",
    "pd.Series(country)"
   ]
  },
  {
   "cell_type": "code",
   "execution_count": 5,
   "metadata": {
    "id": "h_Wgimpg_Idl"
   },
   "outputs": [
    {
     "data": {
      "text/plain": [
       "0     13\n",
       "1     24\n",
       "2     56\n",
       "3     78\n",
       "4    100\n",
       "dtype: int64"
      ]
     },
     "execution_count": 5,
     "metadata": {},
     "output_type": "execute_result"
    }
   ],
   "source": [
    "# integers\n",
    "runs = [13, 24, 56, 78, 100]\n",
    "pd.Series(runs)"
   ]
  },
  {
   "cell_type": "code",
   "execution_count": 6,
   "metadata": {
    "id": "CJgHbnepH_EX"
   },
   "outputs": [
    {
     "data": {
      "text/plain": [
       "Math        67\n",
       "english     57\n",
       "science     89\n",
       "hindi      100\n",
       "dtype: int64"
      ]
     },
     "execution_count": 6,
     "metadata": {},
     "output_type": "execute_result"
    }
   ],
   "source": [
    "# custom index\n",
    "marks = [67, 57, 89, 100]\n",
    "subjects = ['Math', 'english', 'science', 'hindi']\n",
    "\n",
    "pd.Series(marks, index=subjects)"
   ]
  },
  {
   "cell_type": "code",
   "execution_count": 8,
   "metadata": {
    "id": "zcjykyJVKgWs"
   },
   "outputs": [
    {
     "data": {
      "text/plain": [
       "Math        67\n",
       "english     57\n",
       "science     89\n",
       "hindi      100\n",
       "Name: Girijesh ke marks, dtype: int64"
      ]
     },
     "execution_count": 8,
     "metadata": {},
     "output_type": "execute_result"
    }
   ],
   "source": [
    "# setting a name\n",
    "marks = pd.Series(marks, index=subjects, name='Girijesh ke marks')\n",
    "marks"
   ]
  },
  {
   "cell_type": "markdown",
   "metadata": {
    "id": "gw4NHrWf_Km3"
   },
   "source": [
    "### Series from dict"
   ]
  },
  {
   "cell_type": "code",
   "execution_count": 9,
   "metadata": {
    "id": "Sz9B_oPy_RMX"
   },
   "outputs": [],
   "source": [
    "marks = {\n",
    "    'Math' :       67,\n",
    "'english'  :   57,\n",
    "'science' :    89,\n",
    "'hindi'    :  100\n",
    "}\n",
    "\n",
    "marks_series = pd.Series(marks)"
   ]
  },
  {
   "cell_type": "code",
   "execution_count": 10,
   "metadata": {},
   "outputs": [
    {
     "data": {
      "text/plain": [
       "Math        67\n",
       "english     57\n",
       "science     89\n",
       "hindi      100\n",
       "dtype: int64"
      ]
     },
     "execution_count": 10,
     "metadata": {},
     "output_type": "execute_result"
    }
   ],
   "source": [
    "marks_series"
   ]
  },
  {
   "cell_type": "markdown",
   "metadata": {
    "id": "MDSIDfei_Szi"
   },
   "source": [
    "### Series Attributes"
   ]
  },
  {
   "cell_type": "code",
   "execution_count": 12,
   "metadata": {
    "id": "0_eqjw1u_lG_"
   },
   "outputs": [
    {
     "data": {
      "text/plain": [
       "4"
      ]
     },
     "execution_count": 12,
     "metadata": {},
     "output_type": "execute_result"
    }
   ],
   "source": [
    "# size\n",
    "marks_series.size"
   ]
  },
  {
   "cell_type": "code",
   "execution_count": 13,
   "metadata": {
    "id": "nYpNWJhWGyqa"
   },
   "outputs": [
    {
     "data": {
      "text/plain": [
       "dtype('int64')"
      ]
     },
     "execution_count": 13,
     "metadata": {},
     "output_type": "execute_result"
    }
   ],
   "source": [
    "# dtype\n",
    "marks_series.dtype"
   ]
  },
  {
   "cell_type": "code",
   "execution_count": 14,
   "metadata": {
    "id": "ImBy24CkKkZP"
   },
   "outputs": [],
   "source": [
    "# name\n",
    "marks_series.name"
   ]
  },
  {
   "cell_type": "code",
   "execution_count": 16,
   "metadata": {
    "id": "UsNGB2rCF9V-"
   },
   "outputs": [
    {
     "data": {
      "text/plain": [
       "True"
      ]
     },
     "execution_count": 16,
     "metadata": {},
     "output_type": "execute_result"
    }
   ],
   "source": [
    "# is_unique\n",
    "marks_series.is_unique\n"
   ]
  },
  {
   "cell_type": "code",
   "execution_count": 18,
   "metadata": {},
   "outputs": [
    {
     "data": {
      "text/plain": [
       "False"
      ]
     },
     "execution_count": 18,
     "metadata": {},
     "output_type": "execute_result"
    }
   ],
   "source": [
    "pd.Series([1,2,3,4,5,6,2,3,4,5]).is_unique"
   ]
  },
  {
   "cell_type": "code",
   "execution_count": 17,
   "metadata": {
    "id": "VLB00Z-vGBHL"
   },
   "outputs": [
    {
     "data": {
      "text/plain": [
       "Index(['Math', 'english', 'science', 'hindi'], dtype='object')"
      ]
     },
     "execution_count": 17,
     "metadata": {},
     "output_type": "execute_result"
    }
   ],
   "source": [
    "# index\n",
    "marks_series.index"
   ]
  },
  {
   "cell_type": "code",
   "execution_count": 19,
   "metadata": {
    "id": "PmE8l3SKGDbl"
   },
   "outputs": [
    {
     "data": {
      "text/plain": [
       "array([ 67,  57,  89, 100], dtype=int64)"
      ]
     },
     "execution_count": 19,
     "metadata": {},
     "output_type": "execute_result"
    }
   ],
   "source": [
    "# values\n",
    "marks_series.values"
   ]
  },
  {
   "cell_type": "code",
   "execution_count": 20,
   "metadata": {},
   "outputs": [
    {
     "data": {
      "text/plain": [
       "numpy.ndarray"
      ]
     },
     "execution_count": 20,
     "metadata": {},
     "output_type": "execute_result"
    }
   ],
   "source": [
    "type(marks_series.values)"
   ]
  },
  {
   "cell_type": "markdown",
   "metadata": {
    "id": "UCP7I0t_KMID"
   },
   "source": [
    "### Series using read_csv"
   ]
  },
  {
   "cell_type": "code",
   "execution_count": 23,
   "metadata": {
    "id": "r2FWTRoBGEk5"
   },
   "outputs": [
    {
     "data": {
      "text/plain": [
       "0       48\n",
       "1       57\n",
       "2       40\n",
       "3       43\n",
       "4       44\n",
       "      ... \n",
       "360    231\n",
       "361    226\n",
       "362    155\n",
       "363    144\n",
       "364    172\n",
       "Name: Subscribers gained, Length: 365, dtype: int64"
      ]
     },
     "execution_count": 23,
     "metadata": {},
     "output_type": "execute_result"
    }
   ],
   "source": [
    "# with one col\n",
    "subs= pd.read_csv('./datasets-session-16/subs.csv', squeeze=True)\n",
    "subs"
   ]
  },
  {
   "cell_type": "code",
   "execution_count": 51,
   "metadata": {
    "id": "a6Y3bq4TOniT"
   },
   "outputs": [
    {
     "data": {
      "text/plain": [
       "match_no\n",
       "1       1\n",
       "2      23\n",
       "3      13\n",
       "4      12\n",
       "5       1\n",
       "       ..\n",
       "211     0\n",
       "212    20\n",
       "213    73\n",
       "214    25\n",
       "215     7\n",
       "Name: runs, Length: 215, dtype: int64"
      ]
     },
     "execution_count": 51,
     "metadata": {},
     "output_type": "execute_result"
    }
   ],
   "source": [
    "# with 2 cols\n",
    "vk = pd.read_csv('./datasets-session-16/kohli_ipl.csv', index_col='match_no', squeeze=True)\n",
    "vk "
   ]
  },
  {
   "cell_type": "code",
   "execution_count": 27,
   "metadata": {
    "id": "v34r_I_82dwZ"
   },
   "outputs": [
    {
     "data": {
      "text/plain": [
       "movie\n",
       "Uri: The Surgical Strike                   Vicky Kaushal\n",
       "Battalion 609                                Vicky Ahuja\n",
       "The Accidental Prime Minister (film)         Anupam Kher\n",
       "Why Cheat India                            Emraan Hashmi\n",
       "Evening Shadows                         Mona Ambegaonkar\n",
       "                                              ...       \n",
       "Hum Tumhare Hain Sanam                    Shah Rukh Khan\n",
       "Aankhen (2002 film)                     Amitabh Bachchan\n",
       "Saathiya (film)                             Vivek Oberoi\n",
       "Company (film)                                Ajay Devgn\n",
       "Awara Paagal Deewana                        Akshay Kumar\n",
       "Name: lead, Length: 1500, dtype: object"
      ]
     },
     "execution_count": 27,
     "metadata": {},
     "output_type": "execute_result"
    }
   ],
   "source": [
    "movies =pd.read_csv('./datasets-session-16/bollywood.csv', index_col='movie', squeeze=True)\n",
    "movies"
   ]
  },
  {
   "cell_type": "markdown",
   "metadata": {
    "id": "taKAApMTLJkG"
   },
   "source": [
    "### Series methods"
   ]
  },
  {
   "cell_type": "code",
   "execution_count": 28,
   "metadata": {
    "id": "Lt-l4sM_LLsH"
   },
   "outputs": [
    {
     "data": {
      "text/plain": [
       "0    48\n",
       "1    57\n",
       "2    40\n",
       "3    43\n",
       "4    44\n",
       "Name: Subscribers gained, dtype: int64"
      ]
     },
     "execution_count": 28,
     "metadata": {},
     "output_type": "execute_result"
    }
   ],
   "source": [
    "# head and tail\n",
    "subs.head()"
   ]
  },
  {
   "cell_type": "code",
   "execution_count": 29,
   "metadata": {},
   "outputs": [
    {
     "data": {
      "text/plain": [
       "match_no\n",
       "1     1\n",
       "2    23\n",
       "3    13\n",
       "Name: runs, dtype: int64"
      ]
     },
     "execution_count": 29,
     "metadata": {},
     "output_type": "execute_result"
    }
   ],
   "source": [
    "vk.head(3)"
   ]
  },
  {
   "cell_type": "code",
   "execution_count": 30,
   "metadata": {},
   "outputs": [
    {
     "data": {
      "text/plain": [
       "movie\n",
       "Hum Tumhare Hain Sanam      Shah Rukh Khan\n",
       "Aankhen (2002 film)       Amitabh Bachchan\n",
       "Saathiya (film)               Vivek Oberoi\n",
       "Company (film)                  Ajay Devgn\n",
       "Awara Paagal Deewana          Akshay Kumar\n",
       "Name: lead, dtype: object"
      ]
     },
     "execution_count": 30,
     "metadata": {},
     "output_type": "execute_result"
    }
   ],
   "source": [
    "movies.tail()"
   ]
  },
  {
   "cell_type": "code",
   "execution_count": 31,
   "metadata": {},
   "outputs": [
    {
     "data": {
      "text/plain": [
       "match_no\n",
       "211     0\n",
       "212    20\n",
       "213    73\n",
       "214    25\n",
       "215     7\n",
       "Name: runs, dtype: int64"
      ]
     },
     "execution_count": 31,
     "metadata": {},
     "output_type": "execute_result"
    }
   ],
   "source": [
    "vk.tail()"
   ]
  },
  {
   "cell_type": "code",
   "execution_count": 39,
   "metadata": {
    "id": "COKh4XYBLqT3"
   },
   "outputs": [
    {
     "data": {
      "text/plain": [
       "movie\n",
       "Kaun Hai Jo Sapno Mein Aaya       Raqesh Bapat\n",
       "Dil Maange More                  Shahid Kapoor\n",
       "Anthony Kaun Hai?                  Sanjay Dutt\n",
       "Agnipankh                      Jimmy Sheirgill\n",
       "Khajoor Pe Atke                   Vinay Pathak\n",
       "Name: lead, dtype: object"
      ]
     },
     "execution_count": 39,
     "metadata": {},
     "output_type": "execute_result"
    }
   ],
   "source": [
    "# sample\n",
    "movies.sample(5)"
   ]
  },
  {
   "cell_type": "code",
   "execution_count": 43,
   "metadata": {
    "id": "t3m4wTw6N-v0"
   },
   "outputs": [
    {
     "data": {
      "text/plain": [
       "Akshay Kumar        48\n",
       "Amitabh Bachchan    45\n",
       "Ajay Devgn          38\n",
       "Salman Khan         31\n",
       "Sanjay Dutt         26\n",
       "                    ..\n",
       "Shaurya Singh        1\n",
       "Bhushan Agarwal      1\n",
       "Yash Soni            1\n",
       "Nishikant Kamat      1\n",
       "Sooraj Balaji        1\n",
       "Name: lead, Length: 566, dtype: int64"
      ]
     },
     "execution_count": 43,
     "metadata": {},
     "output_type": "execute_result"
    }
   ],
   "source": [
    "# value_counts -> movies\n",
    "movies.value_counts()"
   ]
  },
  {
   "cell_type": "code",
   "execution_count": 47,
   "metadata": {
    "id": "vzMt0ZOPMgpO"
   },
   "outputs": [
    {
     "data": {
      "text/plain": [
       "array([113, 109, 108, 100, 100,  99,  93,  92,  90,  84], dtype=int64)"
      ]
     },
     "execution_count": 47,
     "metadata": {},
     "output_type": "execute_result"
    }
   ],
   "source": [
    "# sort_values -> inplace\n",
    "vk.sort_values(ascending=False).head(10).values"
   ]
  },
  {
   "cell_type": "code",
   "execution_count": 49,
   "metadata": {},
   "outputs": [],
   "source": [
    "#vk.sort_values(inplace=True)"
   ]
  },
  {
   "cell_type": "code",
   "execution_count": 52,
   "metadata": {},
   "outputs": [
    {
     "data": {
      "text/plain": [
       "match_no\n",
       "1       1\n",
       "2      23\n",
       "3      13\n",
       "4      12\n",
       "5       1\n",
       "       ..\n",
       "211     0\n",
       "212    20\n",
       "213    73\n",
       "214    25\n",
       "215     7\n",
       "Name: runs, Length: 215, dtype: int64"
      ]
     },
     "execution_count": 52,
     "metadata": {},
     "output_type": "execute_result"
    }
   ],
   "source": [
    "vk"
   ]
  },
  {
   "cell_type": "code",
   "execution_count": 54,
   "metadata": {
    "id": "Z0t20LmCNZVi"
   },
   "outputs": [
    {
     "data": {
      "text/plain": [
       "movie\n",
       "1920 (film)                   Rajniesh Duggall\n",
       "1920: London                     Sharman Joshi\n",
       "1920: The Evil Returns             Vicky Ahuja\n",
       "1971 (2007 film)                Manoj Bajpayee\n",
       "2 States (2014 film)              Arjun Kapoor\n",
       "                                   ...        \n",
       "Zindagi 50-50                      Veena Malik\n",
       "Zindagi Na Milegi Dobara        Hrithik Roshan\n",
       "Zindagi Tere Naam           Mithun Chakraborty\n",
       "Zokkomon                       Darsheel Safary\n",
       "Zor Lagaa Ke...Haiya!            Meghan Jadhav\n",
       "Name: lead, Length: 1500, dtype: object"
      ]
     },
     "execution_count": 54,
     "metadata": {},
     "output_type": "execute_result"
    }
   ],
   "source": [
    "# sort_index -> inplace -> movies\n",
    "movies.sort_index()"
   ]
  },
  {
   "cell_type": "markdown",
   "metadata": {
    "id": "58RZWU44Tj_U"
   },
   "source": [
    "### Series Maths Methods"
   ]
  },
  {
   "cell_type": "code",
   "execution_count": 57,
   "metadata": {
    "id": "6GzHd8BPToFa"
   },
   "outputs": [
    {
     "data": {
      "text/plain": [
       "(215, 215)"
      ]
     },
     "execution_count": 57,
     "metadata": {},
     "output_type": "execute_result"
    }
   ],
   "source": [
    "# count\n",
    "vk.count(), vk.size"
   ]
  },
  {
   "cell_type": "code",
   "execution_count": 59,
   "metadata": {
    "id": "QAUr7vxtTrAU"
   },
   "outputs": [
    {
     "data": {
      "text/plain": [
       "49510"
      ]
     },
     "execution_count": 59,
     "metadata": {},
     "output_type": "execute_result"
    }
   ],
   "source": [
    "# sum -> product\n",
    "subs.sum()"
   ]
  },
  {
   "cell_type": "code",
   "execution_count": 61,
   "metadata": {},
   "outputs": [
    {
     "data": {
      "text/plain": [
       "33989100"
      ]
     },
     "execution_count": 61,
     "metadata": {},
     "output_type": "execute_result"
    }
   ],
   "source": [
    "marks_series.product()"
   ]
  },
  {
   "cell_type": "code",
   "execution_count": 62,
   "metadata": {
    "id": "q1pRRhmdTrM0"
   },
   "outputs": [
    {
     "data": {
      "text/plain": [
       "135.64383561643837"
      ]
     },
     "execution_count": 62,
     "metadata": {},
     "output_type": "execute_result"
    }
   ],
   "source": [
    "# mean -> median -> mode -> std -> var\n",
    "subs.mean()"
   ]
  },
  {
   "cell_type": "code",
   "execution_count": 63,
   "metadata": {},
   "outputs": [
    {
     "data": {
      "text/plain": [
       "123.0"
      ]
     },
     "execution_count": 63,
     "metadata": {},
     "output_type": "execute_result"
    }
   ],
   "source": [
    "subs.median()"
   ]
  },
  {
   "cell_type": "code",
   "execution_count": 64,
   "metadata": {},
   "outputs": [
    {
     "data": {
      "text/plain": [
       "24.0"
      ]
     },
     "execution_count": 64,
     "metadata": {},
     "output_type": "execute_result"
    }
   ],
   "source": [
    "vk.median()"
   ]
  },
  {
   "cell_type": "code",
   "execution_count": 65,
   "metadata": {},
   "outputs": [
    {
     "data": {
      "text/plain": [
       "0    105\n",
       "dtype: int64"
      ]
     },
     "execution_count": 65,
     "metadata": {},
     "output_type": "execute_result"
    }
   ],
   "source": [
    "subs.mode()"
   ]
  },
  {
   "cell_type": "code",
   "execution_count": 66,
   "metadata": {},
   "outputs": [
    {
     "name": "stdout",
     "output_type": "stream",
     "text": [
      "0    Akshay Kumar\n",
      "dtype: object\n"
     ]
    }
   ],
   "source": [
    "print(movies.mode())"
   ]
  },
  {
   "cell_type": "code",
   "execution_count": 67,
   "metadata": {},
   "outputs": [
    {
     "name": "stdout",
     "output_type": "stream",
     "text": [
      "62.6750230372527\n"
     ]
    }
   ],
   "source": [
    "print(subs.std())"
   ]
  },
  {
   "cell_type": "code",
   "execution_count": 68,
   "metadata": {},
   "outputs": [
    {
     "name": "stdout",
     "output_type": "stream",
     "text": [
      "3928.1585127201565\n"
     ]
    }
   ],
   "source": [
    "print(subs.var())"
   ]
  },
  {
   "cell_type": "code",
   "execution_count": 69,
   "metadata": {
    "id": "L64dQIXJTrXF"
   },
   "outputs": [
    {
     "data": {
      "text/plain": [
       "396"
      ]
     },
     "execution_count": 69,
     "metadata": {},
     "output_type": "execute_result"
    }
   ],
   "source": [
    "# min/max\n",
    "subs.max()"
   ]
  },
  {
   "cell_type": "code",
   "execution_count": 70,
   "metadata": {},
   "outputs": [
    {
     "data": {
      "text/plain": [
       "33"
      ]
     },
     "execution_count": 70,
     "metadata": {},
     "output_type": "execute_result"
    }
   ],
   "source": [
    "subs.min()"
   ]
  },
  {
   "cell_type": "code",
   "execution_count": 71,
   "metadata": {
    "id": "SAvniKCuUB_J"
   },
   "outputs": [
    {
     "data": {
      "text/plain": [
       "count    365.000000\n",
       "mean     135.643836\n",
       "std       62.675023\n",
       "min       33.000000\n",
       "25%       88.000000\n",
       "50%      123.000000\n",
       "75%      177.000000\n",
       "max      396.000000\n",
       "Name: Subscribers gained, dtype: float64"
      ]
     },
     "execution_count": 71,
     "metadata": {},
     "output_type": "execute_result"
    }
   ],
   "source": [
    "# describe\n",
    "subs.describe()"
   ]
  },
  {
   "cell_type": "code",
   "execution_count": 72,
   "metadata": {},
   "outputs": [
    {
     "data": {
      "text/plain": [
       "count    215.000000\n",
       "mean      30.855814\n",
       "std       26.229801\n",
       "min        0.000000\n",
       "25%        9.000000\n",
       "50%       24.000000\n",
       "75%       48.000000\n",
       "max      113.000000\n",
       "Name: runs, dtype: float64"
      ]
     },
     "execution_count": 72,
     "metadata": {},
     "output_type": "execute_result"
    }
   ],
   "source": [
    "vk.describe()"
   ]
  },
  {
   "cell_type": "markdown",
   "metadata": {
    "id": "Cz12N8YKP-h8"
   },
   "source": [
    "### Series Indexing"
   ]
  },
  {
   "cell_type": "code",
   "execution_count": 73,
   "metadata": {
    "id": "VXMiwNgAQA4V"
   },
   "outputs": [],
   "source": [
    "# integer indexing\n",
    "x = pd.Series([12,13,14,35,46,57,58,79,9])"
   ]
  },
  {
   "cell_type": "code",
   "execution_count": 75,
   "metadata": {
    "id": "uL2i-qNuQ6t8"
   },
   "outputs": [
    {
     "data": {
      "text/plain": [
       "0    12\n",
       "1    13\n",
       "2    14\n",
       "3    35\n",
       "4    46\n",
       "5    57\n",
       "6    58\n",
       "7    79\n",
       "8     9\n",
       "dtype: int64"
      ]
     },
     "execution_count": 75,
     "metadata": {},
     "output_type": "execute_result"
    }
   ],
   "source": [
    "# negative indexing\n",
    "x"
   ]
  },
  {
   "cell_type": "code",
   "execution_count": 77,
   "metadata": {},
   "outputs": [
    {
     "data": {
      "text/plain": [
       "'Akshay Kumar'"
      ]
     },
     "execution_count": 77,
     "metadata": {},
     "output_type": "execute_result"
    }
   ],
   "source": [
    "movies[-1]"
   ]
  },
  {
   "cell_type": "code",
   "execution_count": 78,
   "metadata": {},
   "outputs": [
    {
     "data": {
      "text/plain": [
       "100"
      ]
     },
     "execution_count": 78,
     "metadata": {},
     "output_type": "execute_result"
    }
   ],
   "source": [
    "marks_series[-1]"
   ]
  },
  {
   "cell_type": "code",
   "execution_count": 79,
   "metadata": {
    "id": "0Aok361MQA8J"
   },
   "outputs": [
    {
     "data": {
      "text/plain": [
       "match_no\n",
       "6      9\n",
       "7     34\n",
       "8      0\n",
       "9     21\n",
       "10     3\n",
       "11    10\n",
       "12    38\n",
       "13     3\n",
       "14    11\n",
       "15    50\n",
       "16     2\n",
       "Name: runs, dtype: int64"
      ]
     },
     "execution_count": 79,
     "metadata": {},
     "output_type": "execute_result"
    }
   ],
   "source": [
    "# slicing\n",
    "vk[5:16]"
   ]
  },
  {
   "cell_type": "code",
   "execution_count": 80,
   "metadata": {
    "id": "Liu7rQJbQ9GW"
   },
   "outputs": [
    {
     "data": {
      "text/plain": [
       "match_no\n",
       "211     0\n",
       "212    20\n",
       "213    73\n",
       "214    25\n",
       "215     7\n",
       "Name: runs, dtype: int64"
      ]
     },
     "execution_count": 80,
     "metadata": {},
     "output_type": "execute_result"
    }
   ],
   "source": [
    "# negative slicing\n",
    "vk[-5: ]"
   ]
  },
  {
   "cell_type": "code",
   "execution_count": 81,
   "metadata": {},
   "outputs": [
    {
     "data": {
      "text/plain": [
       "movie\n",
       "Hum Tumhare Hain Sanam      Shah Rukh Khan\n",
       "Aankhen (2002 film)       Amitabh Bachchan\n",
       "Saathiya (film)               Vivek Oberoi\n",
       "Company (film)                  Ajay Devgn\n",
       "Awara Paagal Deewana          Akshay Kumar\n",
       "Name: lead, dtype: object"
      ]
     },
     "execution_count": 81,
     "metadata": {},
     "output_type": "execute_result"
    }
   ],
   "source": [
    "movies[-5:]"
   ]
  },
  {
   "cell_type": "code",
   "execution_count": 83,
   "metadata": {},
   "outputs": [
    {
     "data": {
      "text/plain": [
       "movie\n",
       "Uri: The Surgical Strike                   Vicky Kaushal\n",
       "The Accidental Prime Minister (film)         Anupam Kher\n",
       "Evening Shadows                         Mona Ambegaonkar\n",
       "Fraud Saiyaan                               Arshad Warsi\n",
       "Manikarnika: The Queen of Jhansi          Kangana Ranaut\n",
       "                                              ...       \n",
       "Raaz (2002 film)                              Dino Morea\n",
       "Waisa Bhi Hota Hai Part II                  Arshad Warsi\n",
       "Kaante                                  Amitabh Bachchan\n",
       "Aankhen (2002 film)                     Amitabh Bachchan\n",
       "Company (film)                                Ajay Devgn\n",
       "Name: lead, Length: 750, dtype: object"
      ]
     },
     "execution_count": 83,
     "metadata": {},
     "output_type": "execute_result"
    }
   ],
   "source": [
    "movies[::2]"
   ]
  },
  {
   "cell_type": "code",
   "execution_count": 84,
   "metadata": {
    "id": "QjB-8CydQA_W"
   },
   "outputs": [
    {
     "data": {
      "text/plain": [
       "match_no\n",
       "1     1\n",
       "3    13\n",
       "4    12\n",
       "5     1\n",
       "Name: runs, dtype: int64"
      ]
     },
     "execution_count": 84,
     "metadata": {},
     "output_type": "execute_result"
    }
   ],
   "source": [
    "# fancy indexing\n",
    "vk[[1,3,4,5]]"
   ]
  },
  {
   "cell_type": "code",
   "execution_count": 86,
   "metadata": {
    "id": "m4y-6vjTQBCP"
   },
   "outputs": [
    {
     "data": {
      "text/plain": [
       "'Vicky Kaushal'"
      ]
     },
     "execution_count": 86,
     "metadata": {},
     "output_type": "execute_result"
    }
   ],
   "source": [
    "# indexing with labels -> fancy indexing\n",
    "movies['Uri: The Surgical Strike']"
   ]
  },
  {
   "cell_type": "markdown",
   "metadata": {
    "id": "NFElpr-tR5en"
   },
   "source": [
    "### Editing Series"
   ]
  },
  {
   "cell_type": "code",
   "execution_count": 88,
   "metadata": {
    "id": "bMaxSAmfR8JQ"
   },
   "outputs": [
    {
     "data": {
      "text/plain": [
       "Math        67\n",
       "english    100\n",
       "science     89\n",
       "hindi      100\n",
       "dtype: int64"
      ]
     },
     "execution_count": 88,
     "metadata": {},
     "output_type": "execute_result"
    }
   ],
   "source": [
    "# using indexing\n",
    "marks_series[1] = 100\n",
    "marks_series"
   ]
  },
  {
   "cell_type": "code",
   "execution_count": 90,
   "metadata": {
    "id": "p2sikMnPR8MU"
   },
   "outputs": [],
   "source": [
    "# what if an index does not exist\n",
    "marks_series['sst'] = 90"
   ]
  },
  {
   "cell_type": "code",
   "execution_count": 91,
   "metadata": {},
   "outputs": [
    {
     "data": {
      "text/plain": [
       "Math        67\n",
       "english    100\n",
       "science     89\n",
       "hindi      100\n",
       "sst         90\n",
       "dtype: int64"
      ]
     },
     "execution_count": 91,
     "metadata": {},
     "output_type": "execute_result"
    }
   ],
   "source": [
    "marks_series"
   ]
  },
  {
   "cell_type": "code",
   "execution_count": 96,
   "metadata": {
    "id": "bsvV3kz0R8Ps"
   },
   "outputs": [
    {
     "data": {
      "text/plain": [
       "0     13\n",
       "1     24\n",
       "2     56\n",
       "3     78\n",
       "4    100\n",
       "dtype: int64"
      ]
     },
     "execution_count": 96,
     "metadata": {},
     "output_type": "execute_result"
    }
   ],
   "source": [
    "# slicing\n",
    "runs_ser = pd.Series(runs)\n",
    "runs_ser"
   ]
  },
  {
   "cell_type": "code",
   "execution_count": 97,
   "metadata": {
    "id": "UbXMK59FSJp7"
   },
   "outputs": [],
   "source": [
    "# fancy indexing\n",
    "runs_ser[[0, 2, 4]] = [0,0,0]"
   ]
  },
  {
   "cell_type": "code",
   "execution_count": 98,
   "metadata": {},
   "outputs": [
    {
     "data": {
      "text/plain": [
       "0     0\n",
       "1    24\n",
       "2     0\n",
       "3    78\n",
       "4     0\n",
       "dtype: int64"
      ]
     },
     "execution_count": 98,
     "metadata": {},
     "output_type": "execute_result"
    }
   ],
   "source": [
    "runs_ser"
   ]
  },
  {
   "cell_type": "code",
   "execution_count": 99,
   "metadata": {
    "id": "D1gyqD5bSa_1"
   },
   "outputs": [
    {
     "data": {
      "text/plain": [
       "movie\n",
       "Uri: The Surgical Strike                   Vicky Kaushal\n",
       "Battalion 609                                Vicky Ahuja\n",
       "The Accidental Prime Minister (film)         Anupam Kher\n",
       "Why Cheat India                            Emraan Hashmi\n",
       "Evening Shadows                         Mona Ambegaonkar\n",
       "                                              ...       \n",
       "Hum Tumhare Hain Sanam                    Shah Rukh Khan\n",
       "Aankhen (2002 film)                     Amitabh Bachchan\n",
       "Saathiya (film)                             Vivek Oberoi\n",
       "Company (film)                                Ajay Devgn\n",
       "Awara Paagal Deewana                        Akshay Kumar\n",
       "Name: lead, Length: 1500, dtype: object"
      ]
     },
     "execution_count": 99,
     "metadata": {},
     "output_type": "execute_result"
    }
   ],
   "source": [
    "# using index label\n",
    "movies['2 States (2014 film)'] = 'Alia Bhatt'\n",
    "movies"
   ]
  },
  {
   "cell_type": "markdown",
   "metadata": {
    "id": "DR5SayWPSv1D"
   },
   "source": [
    "### Copy and Views"
   ]
  },
  {
   "cell_type": "code",
   "execution_count": null,
   "metadata": {
    "id": "pVND-BTBgVlN"
   },
   "outputs": [],
   "source": []
  },
  {
   "cell_type": "markdown",
   "metadata": {
    "id": "6OVEN5eFUWA-"
   },
   "source": [
    "### Series with Python Functionalities"
   ]
  },
  {
   "cell_type": "code",
   "execution_count": 102,
   "metadata": {
    "id": "zebKLTsNt12p"
   },
   "outputs": [
    {
     "name": "stdout",
     "output_type": "stream",
     "text": [
      "365\n",
      "<class 'pandas.core.series.Series'>\n",
      "['T', '_AXIS_LEN', '_AXIS_NAMES', '_AXIS_NUMBERS', '_AXIS_ORDERS', '_AXIS_REVERSED', '_AXIS_TO_AXIS_NUMBER', '_HANDLED_TYPES', '__abs__', '__add__', '__and__', '__annotations__', '__array__', '__array_priority__', '__array_ufunc__', '__array_wrap__', '__bool__', '__class__', '__contains__', '__copy__', '__deepcopy__', '__delattr__', '__delitem__', '__dict__', '__dir__', '__div__', '__divmod__', '__doc__', '__eq__', '__finalize__', '__float__', '__floordiv__', '__format__', '__ge__', '__getattr__', '__getattribute__', '__getitem__', '__getstate__', '__gt__', '__hash__', '__iadd__', '__iand__', '__ifloordiv__', '__imod__', '__imul__', '__init__', '__init_subclass__', '__int__', '__invert__', '__ior__', '__ipow__', '__isub__', '__iter__', '__itruediv__', '__ixor__', '__le__', '__len__', '__long__', '__lt__', '__matmul__', '__mod__', '__module__', '__mul__', '__ne__', '__neg__', '__new__', '__nonzero__', '__or__', '__pos__', '__pow__', '__radd__', '__rand__', '__rdiv__', '__rdivmod__', '__reduce__', '__reduce_ex__', '__repr__', '__rfloordiv__', '__rmatmul__', '__rmod__', '__rmul__', '__ror__', '__round__', '__rpow__', '__rsub__', '__rtruediv__', '__rxor__', '__setattr__', '__setitem__', '__setstate__', '__sizeof__', '__str__', '__sub__', '__subclasshook__', '__truediv__', '__weakref__', '__xor__', '_accessors', '_add_numeric_operations', '_add_series_or_dataframe_operations', '_agg_by_level', '_agg_examples_doc', '_agg_see_also_doc', '_aggregate', '_aggregate_multiple_funcs', '_align_frame', '_align_series', '_binop', '_builtin_table', '_can_hold_na', '_check_inplace_setting', '_check_is_chained_assignment_possible', '_check_label_or_level_ambiguity', '_check_setitem_copy', '_clear_item_cache', '_clip_with_one_bound', '_clip_with_scalar', '_consolidate', '_consolidate_inplace', '_construct_axes_dict', '_construct_axes_from_arguments', '_construct_result', '_constructor', '_constructor_expanddim', '_constructor_sliced', '_convert', '_convert_dtypes', '_cython_table', '_data', '_deprecations', '_dir_additions', '_dir_deletions', '_drop_axis', '_drop_labels_or_levels', '_find_valid_index', '_get_axis', '_get_axis_name', '_get_axis_number', '_get_axis_resolvers', '_get_block_manager_axis', '_get_bool_data', '_get_cacher', '_get_cleaned_column_resolvers', '_get_cython_func', '_get_index_resolvers', '_get_item_cache', '_get_label_or_level_values', '_get_numeric_data', '_get_value', '_get_values', '_get_values_tuple', '_get_with', '_gotitem', '_index', '_indexed_same', '_info_axis', '_info_axis_name', '_info_axis_number', '_init_dict', '_init_mgr', '_internal_names', '_internal_names_set', '_is_builtin_func', '_is_cached', '_is_copy', '_is_label_or_level_reference', '_is_label_reference', '_is_level_reference', '_is_mixed_type', '_is_view', '_iset_item', '_ix', '_ixs', '_map_values', '_maybe_cache_changed', '_maybe_update_cacher', '_metadata', '_needs_reindex_multi', '_obj_with_exclusions', '_protect_consolidate', '_reduce', '_reindex_axes', '_reindex_indexer', '_reindex_multi', '_reindex_with_indexers', '_repr_data_resource_', '_repr_latex_', '_reset_cache', '_reset_cacher', '_selected_obj', '_selection', '_selection_list', '_selection_name', '_set_as_cached', '_set_axis', '_set_axis_name', '_set_is_copy', '_set_item', '_set_labels', '_set_name', '_set_value', '_set_values', '_set_with', '_set_with_engine', '_slice', '_stat_axis', '_stat_axis_name', '_stat_axis_number', '_take_with_is_copy', '_to_dict_of_blocks', '_try_aggregate_string_function', '_typ', '_update_inplace', '_validate_dtype', '_values', '_where', 'abs', 'add', 'add_prefix', 'add_suffix', 'agg', 'aggregate', 'align', 'all', 'any', 'append', 'apply', 'argmax', 'argmin', 'argsort', 'array', 'asfreq', 'asof', 'astype', 'at', 'at_time', 'attrs', 'autocorr', 'axes', 'backfill', 'between', 'between_time', 'bfill', 'bool', 'clip', 'combine', 'combine_first', 'compare', 'convert_dtypes', 'copy', 'corr', 'count', 'cov', 'cummax', 'cummin', 'cumprod', 'cumsum', 'describe', 'diff', 'div', 'divide', 'divmod', 'dot', 'drop', 'drop_duplicates', 'droplevel', 'dropna', 'dtype', 'dtypes', 'duplicated', 'empty', 'eq', 'equals', 'ewm', 'expanding', 'explode', 'factorize', 'ffill', 'fillna', 'filter', 'first', 'first_valid_index', 'floordiv', 'ge', 'get', 'groupby', 'gt', 'hasnans', 'head', 'hist', 'iat', 'idxmax', 'idxmin', 'iloc', 'index', 'infer_objects', 'interpolate', 'is_monotonic', 'is_monotonic_decreasing', 'is_monotonic_increasing', 'is_unique', 'isin', 'isna', 'isnull', 'item', 'items', 'iteritems', 'keys', 'kurt', 'kurtosis', 'last', 'last_valid_index', 'le', 'loc', 'lt', 'mad', 'map', 'mask', 'max', 'mean', 'median', 'memory_usage', 'min', 'mod', 'mode', 'mul', 'multiply', 'name', 'nbytes', 'ndim', 'ne', 'nlargest', 'notna', 'notnull', 'nsmallest', 'nunique', 'pad', 'pct_change', 'pipe', 'plot', 'pop', 'pow', 'prod', 'product', 'quantile', 'radd', 'rank', 'ravel', 'rdiv', 'rdivmod', 'reindex', 'reindex_like', 'rename', 'rename_axis', 'reorder_levels', 'repeat', 'replace', 'resample', 'reset_index', 'rfloordiv', 'rmod', 'rmul', 'rolling', 'round', 'rpow', 'rsub', 'rtruediv', 'sample', 'searchsorted', 'sem', 'set_axis', 'shape', 'shift', 'size', 'skew', 'slice_shift', 'sort_index', 'sort_values', 'squeeze', 'std', 'sub', 'subtract', 'sum', 'swapaxes', 'swaplevel', 'tail', 'take', 'to_clipboard', 'to_csv', 'to_dict', 'to_excel', 'to_frame', 'to_hdf', 'to_json', 'to_latex', 'to_list', 'to_markdown', 'to_numpy', 'to_period', 'to_pickle', 'to_sql', 'to_string', 'to_timestamp', 'to_xarray', 'transform', 'transpose', 'truediv', 'truncate', 'tz_convert', 'tz_localize', 'unique', 'unstack', 'update', 'value_counts', 'values', 'var', 'view', 'where', 'xs']\n"
     ]
    }
   ],
   "source": [
    "# len/type/dir/sorted/max/min\n",
    "print(len(subs))\n",
    "print(type(subs))\n",
    "print(dir(subs))"
   ]
  },
  {
   "cell_type": "code",
   "execution_count": 103,
   "metadata": {},
   "outputs": [
    {
     "data": {
      "text/plain": [
       "[33,\n",
       " 33,\n",
       " 35,\n",
       " 37,\n",
       " 39,\n",
       " 40,\n",
       " 40,\n",
       " 40,\n",
       " 40,\n",
       " 42,\n",
       " 42,\n",
       " 43,\n",
       " 44,\n",
       " 44,\n",
       " 44,\n",
       " 45,\n",
       " 46,\n",
       " 46,\n",
       " 48,\n",
       " 49,\n",
       " 49,\n",
       " 49,\n",
       " 49,\n",
       " 50,\n",
       " 50,\n",
       " 50,\n",
       " 51,\n",
       " 54,\n",
       " 56,\n",
       " 56,\n",
       " 56,\n",
       " 56,\n",
       " 57,\n",
       " 61,\n",
       " 62,\n",
       " 64,\n",
       " 65,\n",
       " 65,\n",
       " 66,\n",
       " 66,\n",
       " 66,\n",
       " 66,\n",
       " 67,\n",
       " 68,\n",
       " 70,\n",
       " 70,\n",
       " 70,\n",
       " 71,\n",
       " 71,\n",
       " 72,\n",
       " 72,\n",
       " 72,\n",
       " 72,\n",
       " 72,\n",
       " 73,\n",
       " 74,\n",
       " 74,\n",
       " 75,\n",
       " 76,\n",
       " 76,\n",
       " 76,\n",
       " 76,\n",
       " 77,\n",
       " 77,\n",
       " 78,\n",
       " 78,\n",
       " 78,\n",
       " 79,\n",
       " 79,\n",
       " 80,\n",
       " 80,\n",
       " 80,\n",
       " 81,\n",
       " 81,\n",
       " 82,\n",
       " 82,\n",
       " 83,\n",
       " 83,\n",
       " 83,\n",
       " 84,\n",
       " 84,\n",
       " 84,\n",
       " 85,\n",
       " 86,\n",
       " 86,\n",
       " 86,\n",
       " 87,\n",
       " 87,\n",
       " 87,\n",
       " 87,\n",
       " 88,\n",
       " 88,\n",
       " 88,\n",
       " 88,\n",
       " 88,\n",
       " 89,\n",
       " 89,\n",
       " 89,\n",
       " 90,\n",
       " 90,\n",
       " 90,\n",
       " 90,\n",
       " 91,\n",
       " 92,\n",
       " 92,\n",
       " 92,\n",
       " 93,\n",
       " 93,\n",
       " 93,\n",
       " 93,\n",
       " 95,\n",
       " 95,\n",
       " 96,\n",
       " 96,\n",
       " 96,\n",
       " 96,\n",
       " 97,\n",
       " 97,\n",
       " 98,\n",
       " 98,\n",
       " 99,\n",
       " 99,\n",
       " 100,\n",
       " 100,\n",
       " 100,\n",
       " 101,\n",
       " 101,\n",
       " 101,\n",
       " 102,\n",
       " 102,\n",
       " 103,\n",
       " 103,\n",
       " 104,\n",
       " 104,\n",
       " 104,\n",
       " 105,\n",
       " 105,\n",
       " 105,\n",
       " 105,\n",
       " 105,\n",
       " 105,\n",
       " 105,\n",
       " 105,\n",
       " 105,\n",
       " 108,\n",
       " 108,\n",
       " 108,\n",
       " 108,\n",
       " 108,\n",
       " 108,\n",
       " 109,\n",
       " 109,\n",
       " 110,\n",
       " 110,\n",
       " 110,\n",
       " 111,\n",
       " 111,\n",
       " 112,\n",
       " 113,\n",
       " 113,\n",
       " 113,\n",
       " 114,\n",
       " 114,\n",
       " 114,\n",
       " 114,\n",
       " 115,\n",
       " 115,\n",
       " 115,\n",
       " 115,\n",
       " 117,\n",
       " 117,\n",
       " 117,\n",
       " 118,\n",
       " 118,\n",
       " 119,\n",
       " 119,\n",
       " 119,\n",
       " 119,\n",
       " 120,\n",
       " 122,\n",
       " 123,\n",
       " 123,\n",
       " 123,\n",
       " 123,\n",
       " 123,\n",
       " 124,\n",
       " 125,\n",
       " 126,\n",
       " 127,\n",
       " 128,\n",
       " 128,\n",
       " 129,\n",
       " 130,\n",
       " 131,\n",
       " 131,\n",
       " 132,\n",
       " 132,\n",
       " 134,\n",
       " 134,\n",
       " 134,\n",
       " 135,\n",
       " 135,\n",
       " 136,\n",
       " 136,\n",
       " 136,\n",
       " 137,\n",
       " 138,\n",
       " 138,\n",
       " 138,\n",
       " 139,\n",
       " 140,\n",
       " 144,\n",
       " 145,\n",
       " 146,\n",
       " 146,\n",
       " 146,\n",
       " 146,\n",
       " 147,\n",
       " 149,\n",
       " 150,\n",
       " 150,\n",
       " 150,\n",
       " 150,\n",
       " 151,\n",
       " 152,\n",
       " 152,\n",
       " 152,\n",
       " 153,\n",
       " 153,\n",
       " 153,\n",
       " 154,\n",
       " 154,\n",
       " 154,\n",
       " 155,\n",
       " 155,\n",
       " 156,\n",
       " 156,\n",
       " 156,\n",
       " 156,\n",
       " 157,\n",
       " 157,\n",
       " 157,\n",
       " 157,\n",
       " 158,\n",
       " 158,\n",
       " 159,\n",
       " 159,\n",
       " 160,\n",
       " 160,\n",
       " 160,\n",
       " 160,\n",
       " 162,\n",
       " 164,\n",
       " 166,\n",
       " 167,\n",
       " 167,\n",
       " 168,\n",
       " 170,\n",
       " 170,\n",
       " 170,\n",
       " 170,\n",
       " 171,\n",
       " 172,\n",
       " 172,\n",
       " 173,\n",
       " 173,\n",
       " 173,\n",
       " 174,\n",
       " 174,\n",
       " 175,\n",
       " 175,\n",
       " 176,\n",
       " 176,\n",
       " 177,\n",
       " 178,\n",
       " 179,\n",
       " 179,\n",
       " 180,\n",
       " 180,\n",
       " 180,\n",
       " 182,\n",
       " 183,\n",
       " 183,\n",
       " 183,\n",
       " 184,\n",
       " 184,\n",
       " 184,\n",
       " 185,\n",
       " 185,\n",
       " 185,\n",
       " 185,\n",
       " 186,\n",
       " 186,\n",
       " 186,\n",
       " 188,\n",
       " 189,\n",
       " 190,\n",
       " 190,\n",
       " 192,\n",
       " 192,\n",
       " 192,\n",
       " 196,\n",
       " 196,\n",
       " 196,\n",
       " 197,\n",
       " 197,\n",
       " 202,\n",
       " 202,\n",
       " 202,\n",
       " 203,\n",
       " 204,\n",
       " 206,\n",
       " 207,\n",
       " 209,\n",
       " 210,\n",
       " 210,\n",
       " 211,\n",
       " 212,\n",
       " 213,\n",
       " 214,\n",
       " 216,\n",
       " 219,\n",
       " 220,\n",
       " 221,\n",
       " 221,\n",
       " 222,\n",
       " 222,\n",
       " 224,\n",
       " 225,\n",
       " 225,\n",
       " 226,\n",
       " 227,\n",
       " 228,\n",
       " 229,\n",
       " 230,\n",
       " 231,\n",
       " 233,\n",
       " 236,\n",
       " 236,\n",
       " 237,\n",
       " 241,\n",
       " 243,\n",
       " 244,\n",
       " 245,\n",
       " 247,\n",
       " 249,\n",
       " 254,\n",
       " 254,\n",
       " 258,\n",
       " 259,\n",
       " 259,\n",
       " 261,\n",
       " 261,\n",
       " 265,\n",
       " 267,\n",
       " 268,\n",
       " 269,\n",
       " 276,\n",
       " 276,\n",
       " 290,\n",
       " 295,\n",
       " 301,\n",
       " 306,\n",
       " 312,\n",
       " 396]"
      ]
     },
     "execution_count": 103,
     "metadata": {},
     "output_type": "execute_result"
    }
   ],
   "source": [
    "sorted(subs)"
   ]
  },
  {
   "cell_type": "code",
   "execution_count": 104,
   "metadata": {},
   "outputs": [
    {
     "data": {
      "text/plain": [
       "33"
      ]
     },
     "execution_count": 104,
     "metadata": {},
     "output_type": "execute_result"
    }
   ],
   "source": [
    "min(subs)"
   ]
  },
  {
   "cell_type": "code",
   "execution_count": 105,
   "metadata": {},
   "outputs": [
    {
     "data": {
      "text/plain": [
       "396"
      ]
     },
     "execution_count": 105,
     "metadata": {},
     "output_type": "execute_result"
    }
   ],
   "source": [
    "max(subs)"
   ]
  },
  {
   "cell_type": "code",
   "execution_count": 107,
   "metadata": {
    "id": "ZJmwrkkgt2x4"
   },
   "outputs": [
    {
     "data": {
      "text/plain": [
       "[67, 100, 89, 100, 90]"
      ]
     },
     "execution_count": 107,
     "metadata": {},
     "output_type": "execute_result"
    }
   ],
   "source": [
    "# type conversion\n",
    "list(marks_series)"
   ]
  },
  {
   "cell_type": "code",
   "execution_count": 108,
   "metadata": {},
   "outputs": [
    {
     "data": {
      "text/plain": [
       "{'Math': 67, 'english': 100, 'science': 89, 'hindi': 100, 'sst': 90}"
      ]
     },
     "execution_count": 108,
     "metadata": {},
     "output_type": "execute_result"
    }
   ],
   "source": [
    "dict(marks_series)"
   ]
  },
  {
   "cell_type": "code",
   "execution_count": 110,
   "metadata": {
    "id": "ScG8OTsIt3yS"
   },
   "outputs": [
    {
     "data": {
      "text/plain": [
       "True"
      ]
     },
     "execution_count": 110,
     "metadata": {},
     "output_type": "execute_result"
    }
   ],
   "source": [
    "# membership operator\n",
    "'Hum Tumhare Hain Sanam' in movies # working on index "
   ]
  },
  {
   "cell_type": "code",
   "execution_count": 113,
   "metadata": {},
   "outputs": [
    {
     "data": {
      "text/plain": [
       "True"
      ]
     },
     "execution_count": 113,
     "metadata": {},
     "output_type": "execute_result"
    }
   ],
   "source": [
    "'Vicky Kaushal' in  movies.values"
   ]
  },
  {
   "cell_type": "code",
   "execution_count": 114,
   "metadata": {
    "id": "IXnzfjhxt41A"
   },
   "outputs": [
    {
     "name": "stdout",
     "output_type": "stream",
     "text": [
      "Vicky Kaushal\n",
      "Vicky Ahuja\n",
      "Anupam Kher\n",
      "Emraan Hashmi\n",
      "Mona Ambegaonkar\n",
      "Geetika Vidya Ohlyan\n",
      "Arshad Warsi\n",
      "Radhika Apte\n",
      "Kangana Ranaut\n",
      "Nawazuddin Siddiqui\n",
      "Ali Asgar\n",
      "Ranveer Singh\n",
      "Prit Kamani\n",
      "Ajay Devgn\n",
      "Sushant Singh Rajput\n",
      "Amitabh Bachchan\n",
      "Abhimanyu Dasani\n",
      "Talha Arshad Reshi\n",
      "Nawazuddin Siddiqui\n",
      "Garima Agarwal\n",
      "Rasika Agashe\n",
      "Barun Sobti\n",
      "Akshay Kumar\n",
      "Zaheer Iqbal\n",
      "Vidyut Jammwal\n",
      "Deepika Amin\n",
      "Manav Kaul\n",
      "Naseeruddin Shah\n",
      "Varun Dhawan\n",
      "Shreyas Talpade\n",
      "Tiger Shroff\n",
      "Boman Irani\n",
      "Ajay Devgn\n",
      "Arjun Kapoor\n",
      "Gavie Chahal\n",
      "Prabhu Deva\n",
      "Shahid Kapoor\n",
      "Ayushmann Khurrana\n",
      "Anupam Kher\n",
      "Karanvir Bohra\n",
      "Hrithik Roshan\n",
      "Jimmy Sheirgill\n",
      "John Abraham\n",
      "Rishi Kapoor\n",
      "Kangana Ranaut\n",
      "Natalia Janoszek\n",
      "Diljit Dosanjh\n",
      "Sidharth Malhotra\n",
      "Rajeev Khandelwal\n",
      "Zaira Wasim\n",
      "Akshay Kumar\n",
      "Jacqueline Fernandez\n",
      "Ayushmann Khurrana\n",
      "Akshaye Khanna\n",
      "Sonam Kapoor\n",
      "Karan Deol\n",
      "Sanjay Dutt\n",
      "Bhavesh Kumar\n",
      "Sanaya Irani\n",
      "Ayushmann Khurrana\n",
      "Siddhanth Kapoor\n",
      "Akshay Kumar\n",
      "Taapsee Pannu\n",
      "Rajkummar Rao\n",
      "Sunny Singh Nijjar\n",
      "Neil Nitin Mukesh\n",
      "Suraj Pancholi\n",
      "Boman Irani\n",
      "Riteish Deshmukh\n",
      "Nawazuddin Siddiqui\n",
      "Shahbaaz Khan\n",
      "Kriti Kharbanda\n",
      "Naseeruddin Shah\n",
      "Vardhan Puri\n",
      "Sushant Singh Rajput\n",
      "Kartik Aaryan\n",
      "Vidyut Jammwal\n",
      "Rani Mukerji\n",
      "Salman Khan\n",
      "Akshay Kumar\n",
      "Saif Ali Khan\n",
      "Kay Kay Menon\n",
      "Nora Fatehi\n",
      "Ashmit Patel\n",
      "Viineet Kumar\n",
      "Rahul Bhat\n",
      "Vicky Kaushal\n",
      "Sidharth Malhotra\n",
      "Deepika Padukone\n",
      "Geetanjali Thapa\n",
      "Akshay Anand\n",
      "Pulkit Samrat\n",
      "Kartik Aaryan\n",
      "Lee Byford\n",
      "Taapsee Pannu\n",
      "Aisha Ahmed\n",
      "Ajay Devgn\n",
      "Rani Mukerji\n",
      "Manoj Bajpayee\n",
      "Tiger Shroff\n",
      "Varun Dhawan\n",
      "Prabhu Deva\n",
      "Ishaan Khattar\n",
      "Abhay Deol\n",
      "Yogesh Raj Mishra\n",
      "Rajkummar Rao\n",
      "Alia Bhatt\n",
      "Naseeruddin Shah\n",
      "Sumeet Vyas\n",
      "Vinay Pathak\n",
      "John Abraham\n",
      "Danny Denzongpa\n",
      "Harshvardhan Kapoor\n",
      "Jimmy Sheirgill\n",
      "Anil Kapoor\n",
      "Ishaan Khattar\n",
      "Ranbir Kapoor\n",
      "Sanjay Dutt\n",
      "Dharmesh Yelande\n",
      "Taapsee Pannu\n",
      "Arjun Mathur\n",
      "Irrfan Khan\n",
      "Akshay Kumar\n",
      "John Abraham\n",
      "Sonakshi Sinha\n",
      "Utkarsh Sharma\n",
      "Dharmendra\n",
      "Rajkummar Rao\n",
      "Jackie Shroff\n",
      "Avinash Tiwary\n",
      "Manoj Bajpayee\n",
      "Paoli Dam\n",
      "Sanya Malhotra\n",
      "Shahid Kapoor\n",
      "Abhishek Bharate\n",
      "Nawazuddin Siddiqui\n",
      "Manish Anand\n",
      "Taapsee Pannu\n",
      "Jackky Bhagnani\n",
      "Anushka Sharma\n",
      "Radhika Apte\n",
      "Rhea Chakraborty\n",
      "Govinda\n",
      "Sohum Shah\n",
      "Kajol\n",
      "Arjun Kapoor\n",
      "Ayushmann Khurrana\n",
      "Ayushmann Khurrana\n",
      "Nargis Fakhri\n",
      "Aishwarya Devan\n",
      "Neil Nitin Mukesh\n",
      "Shakti Kapoor\n",
      "Amit Sadh\n",
      "Sunny Deol\n",
      "Rahul Bagga\n",
      "Sunny Deol\n",
      "Amyra Dastur\n",
      "Shah Rukh Khan\n",
      "Ranveer Singh\n",
      "Salman Khan\n",
      "Ajay Devgn\n",
      "Varun Dhawan\n",
      "Shraddha Kapoor\n",
      "Sunil Grover\n",
      "Hrithik Roshan\n",
      "Raj Arjun\n",
      "Aamir Khan\n",
      "Gurmeet Ram Rahim Singh\n",
      "Arsh Bajwa\n",
      "Rana Daggubati\n",
      "Naseeruddin Shah\n",
      "Kangana Ranaut\n",
      "Nana Patekar\n",
      "Arbaaz Khan\n",
      "Varun Dhawan\n",
      "Rajkummar Rao\n",
      "Govinda\n",
      "Rajat Kapoor\n",
      "Anushka Sharma\n",
      "Kiara Advani\n",
      "Shaurya Singh\n",
      "Pankaj Tripathi\n",
      "Taapsee Pannu\n",
      "Adil Hussain\n",
      "Amitabh Bachchan\n",
      "Sunny Leone\n",
      "Hema Malini\n",
      "Raveena Tandon\n",
      "Amitabh Bachchan\n",
      "Amardeep Insan\n",
      "Shraddha Kapoor\n",
      "Ayushmann Khurrana\n",
      "Sachin Tendulkar\n",
      "Irrfan Khan\n",
      "Himansh Kohli\n",
      "Adil Hussain\n",
      "Jayesh Raj\n",
      "Manisha Koirala\n",
      "Deepika Padukone\n",
      "Rajkummar Rao\n",
      "Salman Khan\n",
      "Riteish Deshmukh\n",
      "Shiv Darshan\n",
      "Ranbir Kapoor\n",
      "Ashish Bisht\n",
      "Aahana Kumra\n",
      "Manoj Babani\n",
      "Rajveer Ankur Singh\n",
      "Kirti Kulhari\n",
      "Shah Rukh Khan\n",
      "Tiger Shroff\n",
      "Akshay Kumar\n",
      "Anil Kapoor\n",
      "Kartik Aaryan\n",
      "Ayushmann Khurrana\n",
      "Nawazuddin Siddiqui\n",
      "Prisha Aneja\n",
      "Aadar Jain\n",
      "Ayushmann Khurrana\n",
      "Kunal Kapoor\n",
      "Arjun Rampal\n",
      "Kangana Ranaut\n",
      "Farhan Akhtar\n",
      "Sidharth Malhotra\n",
      "Hugh Bonneville\n",
      "Rishi Kapoor\n",
      "Rajkummar Rao\n",
      "Kunaal Roy Kapur\n",
      "Sunny Leone\n",
      "Shraddha Kapoor\n",
      "Rina Charaniya\n",
      "Nawazuddin Siddiqui\n",
      "Sunny Deol\n",
      "Sridevi\n",
      "Saif Ali Khan\n",
      "Soundarya Sharma\n",
      "Sudha Chandran\n",
      "Manoj Bajpayee\n",
      "Zaira Wasim\n",
      "Prakash Belawadi\n",
      "Kalki Koechlin\n",
      "Rajkummar Rao\n",
      "Richa Chadha\n",
      "Irrfan Khan\n",
      "Zareen Khan\n",
      "Nayna Bandhopadhyay\n",
      "Vidya Balan\n",
      "Nishikant Kamat\n",
      "Sanjay Mishra\n",
      "Kapil Sharma\n",
      "Pulkit Samrat\n",
      "Vijay Varma\n",
      "Sushama Deshpande\n",
      "Richa Chadha\n",
      "Prince Shah\n",
      "Tanima Bhattacharya\n",
      "Akshay Kumar\n",
      "Zeenat Aman\n",
      "Madhavan\n",
      "Tusshar Kapoor\n",
      "Tusshar Kapoor\n",
      "Himansh Kohli\n",
      "Sadhana Singh\n",
      "Sunny Deol\n",
      "Aditya Roy Kapoor\n",
      "Rishi Kapoor\n",
      "Rajniesh Duggall\n",
      "Krishna Chaturvedi\n",
      "Girish Taurani\n",
      "Sonam Kapoor\n",
      "Sukhesh Arora\n",
      "Raima Sen\n",
      "Anuj Sachdeva\n",
      "Parthaa Akerkar\n",
      "Priyanka Chopra\n",
      "Sidharth Malhotra\n",
      "John Abraham\n",
      "Patralekhaa Paul\n",
      "Shah Rukh Khan\n",
      "Swara Bhaskar\n",
      "Randeep Hooda\n",
      "Shraddha Kapoor\n",
      "Pankaj Tripathi\n",
      "Jimmy Sheirgill\n",
      "Kartik Elangovan\n",
      "Boman Irani\n",
      "Manoj Bajpayee\n",
      "Sharman Joshi\n",
      "Emraan Hashmi\n",
      "Aanchal Dwivedi\n",
      "Sanjay Singh\n",
      "Arvind Swamy\n",
      "Radhika Apte\n",
      "Randeep Hooda\n",
      "Sachiin Joshi\n",
      "Kajal Aggarwal\n",
      "Amitabh Bachchan\n",
      "Shahid Kapoor\n",
      "Hazel Croney\n",
      "V. Ravichandran\n",
      "Vipin Sharma\n",
      "Nawazuddin Siddiqui\n",
      "Pulkit Samrat\n",
      "Tannishtha Chatterjee\n",
      "Krrish Chhabria\n",
      "Avinash Dhyani\n",
      "Zeenat Aman\n",
      "Salman Khan\n",
      "Shashank Arora\n",
      "Urvashi Rautela\n",
      "Naseeruddin Shah\n",
      "Sara Loren\n",
      "Tom Alter\n",
      "Irrfan Khan\n",
      "John Abraham\n",
      "Rajeev Khandelwal\n",
      "Ileana D'Cruz\n",
      "Sahil Anand\n",
      "Hrithik Roshan\n",
      "Diana Penty\n",
      "Niharica Raizada\n",
      "Tiger Shroff\n",
      "Sidharth Malhotra\n",
      "Nawazuddin Siddiqui\n",
      "Emraan Hashmi\n",
      "Taapsee Pannu\n",
      "Tannishtha Chatterjee\n",
      "Riteish Deshmukh\n",
      "Yash Soni\n",
      "Shreyas Talpade\n",
      "Vinay Pathak\n",
      "Jimmy Sharma\n",
      "Sushant Singh Rajput\n",
      "Ashok Insan\n",
      "RJ Balaji\n",
      "Saurav Chakraborty\n",
      "Shashank Udapurkar\n",
      "Shubham\n",
      "Manoj Bajpayee\n",
      "Sunny Leone\n",
      "Aashish Bhatt\n",
      "Ajay Devgn\n",
      "Ronit Roy\n",
      "Ranbir Kapoor\n",
      "Neha Sharma\n",
      "Farhan Akhtar\n",
      "John Abraham\n",
      "Alia Bhatt\n",
      "Vaani Kapoor\n",
      "Neha Dhupia\n",
      "Jimmy Sheirgill\n",
      "Sonarika Bhadoria\n",
      "Amitabh Bachchan\n",
      "Sharman Joshi\n",
      "Aamir Khan\n",
      "Harshvardhan Kapoor\n",
      "Salman Khan\n",
      "Kangana Ranaut\n",
      "Kangana Ranaut\n",
      "Soha Ali Khan\n",
      "Prabhu Deva\n",
      "Shah Rukh Khan\n",
      "Salman Khan\n",
      "Ranveer Singh\n",
      "Anil Kapoor\n",
      "Akshay Kumar\n",
      "Akshay Kumar\n",
      "Akshay Kumar\n",
      "Akshay Kumar\n",
      "Shakti Kapoor\n",
      "Bipasha Basu\n",
      "Arjun Kapoor\n",
      "Zayed Khan\n",
      "Malaika Arora\n",
      "Naman Jain\n",
      "Gurmeet Choudhary\n",
      "Kay Kay Menon\n",
      "Rati Agnihotri\n",
      "Amitabh Bachchan\n",
      "Arjun Rampal\n",
      "Varun Dhawan\n",
      "Swanand Kirkire\n",
      "Sulabha Arya\n",
      "Irrfan Khan\n",
      "Nana Patekar\n",
      "Ayushmann Khurrana\n",
      "Anupam Kher\n",
      "Gurmeet Ram Rahim Singh\n",
      "Sidhant Gupta\n",
      "Arjun Mathur\n",
      "Ganesh Acharya\n",
      "Anushka Sharma\n",
      "Gulshan Devaiah\n",
      "Sushant Singh Rajput\n",
      "Adhyayan Suman\n",
      "Vira Sathidar\n",
      "Kalki Koechlin\n",
      "Sunny Leone\n",
      "Sara Loren\n",
      "Emraan Hashmi\n",
      "Auroshika Dey\n",
      "Ira Dubey\n",
      "Naseeruddin Shah\n",
      "Vinay Pathak\n",
      "Ram Kapoor\n",
      "Deepika Padukone\n",
      "Ranbir Kapoor\n",
      "Shakti Anand\n",
      "Anil Kapoor\n",
      "Arshad Warsi\n",
      "Meenakshi Dixit\n",
      "Yash Acharya\n",
      "Rajkummar Rao\n",
      "Rahul Bagga\n",
      "Mohit Baghel\n",
      "Rishi Verma\n",
      "Mimoh Chakraborty\n",
      "Swara Bhaskar\n",
      "Richa Chadha\n",
      "Arshad Warsi\n",
      "Mugdha Godse\n",
      "Yashpal Sharma\n",
      "Dharmendra\n",
      "Sunny Deol\n",
      "Smitha Gondkar\n",
      "Kunal Kapoor\n",
      "Ajay Devgn\n",
      "Jacqueline Fernandez\n",
      "Rishi Kapoor\n",
      "Akshay Kumar\n",
      "Vinay Pathak\n",
      "Nawazuddin Siddiqui\n",
      "Bhavita Anand\n",
      "Saif Ali Khan\n",
      "Suraj Pancholi\n",
      "Shamim Khan\n",
      "Irrfan Khan\n",
      "Suhaas Ahuja\n",
      "Jaideep Ahlawat\n",
      "Charanpreet Insan\n",
      "Akanksha Puri\n",
      "Kunal Khemu\n",
      "Aishwarya Rai Bachchan\n",
      "Seema Azmi\n",
      "Parveen Kaur\n",
      "Kapil Sharma\n",
      "Kartik Aaryan\n",
      "Diganth\n",
      "Shahid Kapoor\n",
      "Nawazuddin Siddiqui\n",
      "Kunal Khemu\n",
      "Mann Bagga\n",
      "Manish Paul\n",
      "Sanjeev Kumar\n",
      "Madhuri Dixit\n",
      "Shiv Darshan\n",
      "Gopi Desai\n",
      "Mohinder Gujral\n",
      "Zeenat Aman\n",
      "Ranveer Singh\n",
      "Salman Khan\n",
      "Sidharth Malhotra\n",
      "Adhyayan Suman\n",
      "Indrapal Ahuja\n",
      "Jimmy Sheirgill\n",
      "Abhay Deol\n",
      "Sahil Anand\n",
      "Alia Bhatt\n",
      "Sampat Pal Devi\n",
      "Farhan Akhtar\n",
      "Madhuri Dixit\n",
      "Kangana Ranaut\n",
      "Ayushmann Khurrana\n",
      "Ali Zafar\n",
      "Mahek Chahal\n",
      "Monali Thakur\n",
      "Sunny Leone\n",
      "Harman Baweja\n",
      "Sanjay Mishra\n",
      "Sharman Joshi\n",
      "Sachin Khedekar\n",
      "Leeza Mangaldas\n",
      "Pulkit Samrat\n",
      "Zara Sheikh\n",
      "Alia Bhatt\n",
      "Purab Kohli\n",
      "Amitabh Bachchan\n",
      "Varun Dhawan\n",
      "Arvinder Bhatti\n",
      "Kanika Batra\n",
      "Jackky Bhagnani\n",
      "Rajeev Khandelwal\n",
      "Tanuj Virwani\n",
      "Vijay Raaz\n",
      "Kannan Arunachalam\n",
      "Anjori Alagh\n",
      "Satish Kaushik\n",
      "Rahul Bagga\n",
      "Himesh Reshammiya\n",
      "Farooq Shaikh\n",
      "Makrand Deshpande\n",
      "Eesha Agarwal\n",
      "Siddharth Gupta\n",
      "Tiger Shroff\n",
      "Rajkummar Rao\n",
      "Sharib Hashmi\n",
      "Kangana Ranaut\n",
      "Kartik Aaryan\n",
      "Swara Bhaskar\n",
      "Simer Motiani\n",
      "Anshuman Jha\n",
      "Sidharth Malhotra\n",
      "Vidya Balan\n",
      "Saif Ali Khan\n",
      "Varun Dhawan\n",
      "Jay Bhanushali\n",
      "Armaan Jain\n",
      "Rajesh Khanna\n",
      "Vir Das\n",
      "Akshay Kumar\n",
      "Jimmy Sheirgill\n",
      "Reshmi Ghosh\n",
      "Akshay Oberoi\n",
      "Akshay Kumar\n",
      "Anupam Kher\n",
      "Rani Mukerji\n",
      "Emraan Hashmi\n",
      "Priyanka Chopra\n",
      "Bipasha Basu\n",
      "Deepika Padukone\n",
      "Sonam Kapoor\n",
      "Salil Acharya\n",
      "Salman Khan\n",
      "Saahil Prem\n",
      "Alieesa P Badresia\n",
      "Manoj Amarnani\n",
      "Sasha Aagha\n",
      "Tabu\n",
      "Hrithik Roshan\n",
      "Rati Agnihotri\n",
      "Aditya Roy Kapoor\n",
      "Asrani\n",
      "Harshvardhan Deo\n",
      "Nikhil Dwivedi\n",
      "Karanvir Bohra\n",
      "Puru Chibber\n",
      "Soha Ali Khan\n",
      "Rhea Chakraborty\n",
      "Shah Rukh Khan\n",
      "Rekha\n",
      "Anupam Kher\n",
      "Randeep Hooda\n",
      "Akshay Kumar\n",
      "Aadil Chahal\n",
      "Shabana Azmi\n",
      "Dimple Kapadia\n",
      "Nishant Dahiya\n",
      "Ranveer Singh\n",
      "Emraan Hashmi\n",
      "Saif Ali Khan\n",
      "Vinod Acharya\n",
      "Mannara Chopra\n",
      "Prabhas\n",
      "Mischa Barton\n",
      "Shiv Panditt\n",
      "Annu Kapoor\n",
      "Barun Sobti\n",
      "Rahul Bhat\n",
      "Aamir Khan\n",
      "Adhyayan Suman\n",
      "Imran Khan\n",
      "Naveen Kasturia\n",
      "Arjun Rampal\n",
      "Sarita Joshi\n",
      "Kartik Aaryan\n",
      "Juhi Chawla\n",
      "Saif Ali Khan\n",
      "Manisha Kelkar\n",
      "Farooq Shaikh\n",
      "Akshay Kumar\n",
      "Randeep Hooda\n",
      "Vivek Oberoi\n",
      "Rajkummar Rao\n",
      "Akash\n",
      "Vishwa Mohan Badola\n",
      "Neil Nitin Mukesh\n",
      "Saqib Saleem\n",
      "Arshad Warsi\n",
      "Jimmy Sheirgill\n",
      "Asha Bhosle\n",
      "Kamal Haasan\n",
      "Jackky Bhagnani\n",
      "Aditya Roy Kapoor\n",
      "Emraan Hashmi\n",
      "Ajay Devgn\n",
      "Ayushmann Khurrana\n",
      "Vivek Oberoi\n",
      "Vidyut Jammwal\n",
      "Rani Mukerji\n",
      "Saif Ali Khan\n",
      "Riya Vij\n",
      "Arjun Kapoor\n",
      "Preity Zinta\n",
      "Veena Malik\n",
      "Ranbir Kapoor\n",
      "Pulkit Samrat\n",
      "Rupa Bhimani\n",
      "Dhanush\n",
      "Kay Kay Menon\n",
      "Neil Nitin Mukesh\n",
      "Vidya Balan\n",
      "Anupam Kher\n",
      "Sanjay Dutt\n",
      "Farhan Akhtar\n",
      "Wamiqa Gabbi\n",
      "Shadab Kamal\n",
      "Sunil Shetty\n",
      "Prateik\n",
      "Tusshar Kapoor\n",
      "Tanuj Virwani\n",
      "Poonam Pandey\n",
      "Deepak Dobriyal\n",
      "Hemant Gopal\n",
      "Joy Mukherjee\n",
      "Rishi Kapoor\n",
      "Rajesh Tailang\n",
      "Akshay Kumar\n",
      "John Abraham\n",
      "Amitabh Bachchan\n",
      "Sushant Singh Rajput\n",
      "Shruti Haasan\n",
      "Deepika Padukone\n",
      "Vivek Oberoi\n",
      "Naseeruddin Shah\n",
      "Karan Kundrra\n",
      "Shahid Kapoor\n",
      "Aida Elkashef\n",
      "Irrfan Khan\n",
      "Anisa Butt\n",
      "Akshay Kumar\n",
      "Rajkummar Rao\n",
      "Manish Paul\n",
      "Puneet Singh Ratn\n",
      "Kangana Ranaut\n",
      "Sumit Nijhawan\n",
      "Tinnu Anand\n",
      "Chandan Roy Sanyal\n",
      "Elisha Kriis\n",
      "Ashmit Patel\n",
      "Imran Khan\n",
      "Manu Rishi Chadha\n",
      "Naseeruddin Shah\n",
      "Paresh Rawal\n",
      "Saif Ali Khan\n",
      "Aamir Khan\n",
      "Ali Zafar\n",
      "Ranveer Singh\n",
      "Sharman Joshi\n",
      "Naseeruddin Shah\n",
      "Shiney Ahuja\n",
      "Karan Sharma\n",
      "Sunny Deol\n",
      "Ranveer Singh\n",
      "Hrithik Roshan\n",
      "Kareena Kapoor\n",
      "Prateik\n",
      "Kiran Bhatia\n",
      "Bipasha Basu\n",
      "Riteish Deshmukh\n",
      "Jahangir Khan\n",
      "Irrfan Khan\n",
      "Vidya Balan\n",
      "Mithun Chakraborty\n",
      "Kareena Kapoor\n",
      "Manish Chaudhary\n",
      "Kavin Dave\n",
      "Shikhi Gupta\n",
      "Archana Joglekar\n",
      "Tusshar Kapoor\n",
      "Pulkit Samrat\n",
      "Ayushmann Khurrana\n",
      "Nikhil Dwivedi\n",
      "Anil Kapoor\n",
      "Karisma Kapoor\n",
      "Arjun Kapoor\n",
      "Sanjay Dutt\n",
      "Gul Panag\n",
      "Yudhveer Bakoliya\n",
      "Kay Kay Menon\n",
      "Emraan Hashmi\n",
      "Sharman Joshi\n",
      "Shahid Kapoor\n",
      "Anupam Kher\n",
      "Anya Anand\n",
      "Julia Datt\n",
      "Manoj Bajpayee\n",
      "Manoj Bajpayee\n",
      "Saif Ali Khan\n",
      "Naresh Sharma\n",
      "Riteish Deshmukh\n",
      "Sonu Sood\n",
      "Nassar Abdulla\n",
      "Salman Khan\n",
      "Vickrant Mahajan\n",
      "Freny Bhagat\n",
      "Akshay Kumar\n",
      "Omkar Das Manikpuri\n",
      "Sunil Shetty\n",
      "Manoj Bajpayee\n",
      "Bidita Bag\n",
      "Harish Chabbra\n",
      "Ranbir Kapoor\n",
      "Kareena Kapoor\n",
      "Sagar Bhangade\n",
      "Vivek Oberoi\n",
      "Ravi Kishan\n",
      "Paresh Rawal\n",
      "Rani Mukerji\n",
      "Manoj Bajpayee\n",
      "J.D. Chakravarthi\n",
      "Cary Elwes\n",
      "Arjun Rampal\n",
      "Alia Bhatt\n",
      "Jackky Bhagnani\n",
      "Emraan Hashmi\n",
      "Vicky Ahuja\n",
      "Sunidhi Chauhan\n",
      "Asrani\n",
      "Shah Rukh Khan\n",
      "Aamir Khan\n",
      "Himanshu Bhatt\n",
      "Ajay Devgn\n",
      "Ashok Banthia\n",
      "Salman Khan\n",
      "Vinod Khanna\n",
      "Akshay Kumar\n",
      "Amitabh Bachchan\n",
      "Sridevi\n",
      "Vivek Sudershan\n",
      "Nafisa Ali\n",
      "Mohsin\n",
      "Prateik\n",
      "Gul Panag\n",
      "Vatsal Sheth\n",
      "Ajay Devgn\n",
      "Russell Geoffrey Banks\n",
      "Vinay Pathak\n",
      "Rishi Kapoor\n",
      "Priyanka Chopra\n",
      "Madhavan\n",
      "Arshad Warsi\n",
      "Deepti Naval\n",
      "Akshay Kumar\n",
      "Sumit Arora\n",
      "Anay\n",
      "Om Puri\n",
      "Abhishek Bachchan\n",
      "Sendhil Ramamurthy\n",
      "Darsheel Safary\n",
      "Vinay Pathak\n",
      "Ishaan Manhaas\n",
      "Sanjay Mishra\n",
      "Ashutosh Rana\n",
      "Juhi Chawla\n",
      "Govinda\n",
      "Mimoh Chakraborty\n",
      "Tusshar Kapoor\n",
      "Kainaz Motivala\n",
      "Partho A. Gupte\n",
      "Nana Patekar\n",
      "Sara Arjun\n",
      "Kalki Koechlin\n",
      "Kartik Aaryan\n",
      "Vinay Pathak\n",
      "Lillete Dubey\n",
      "Sanjay Dutt\n",
      "Amitabh Bachchan\n",
      "Imran Khan\n",
      "Emraan Hashmi\n",
      "Aarav Khanna\n",
      "Hrithik Roshan\n",
      "Raghuvir Yadav\n",
      "Gulshan Grover\n",
      "Naushaad Abbas\n",
      "Shefali Shah\n",
      "Ajay Devgn\n",
      "Rahul Jaiswal\n",
      "Apoorva Arora\n",
      "Isha Koppikar\n",
      "Rajniesh Duggall\n",
      "Amitabh Bachchan\n",
      "Sanjay Dutt\n",
      "Anupam Kher\n",
      "Salman Khan\n",
      "Deepshika Nagpal\n",
      "Deepak Dobriyal\n",
      "Tusshar Kapoor\n",
      "Kiron Kher\n",
      "Imran Khan\n",
      "Shahid Kapoor\n",
      "Mikaal\n",
      "John Abraham\n",
      "Jimmy Sheirgill\n",
      "Vinay Pathak\n",
      "Vinay Virmani\n",
      "Dev Anand\n",
      "Zayed Khan\n",
      "Saqib Saleem\n",
      "Sachiin Joshi\n",
      "Shah Rukh Khan\n",
      "Ranbir Kapoor\n",
      "Chirag Paswan\n",
      "Dharmendra\n",
      "Himesh Reshammiya\n",
      "Ranveer Singh\n",
      "Akshay Kumar\n",
      "Abhishek Bachchan\n",
      "Rani Mukerji\n",
      "Ajay Devgn\n",
      "Vidya Balan\n",
      "Priyanka Chopra\n",
      "Shahid Kapoor\n",
      "Prateik\n",
      "Salman Khan\n",
      "Siddharth\n",
      "Amitabh Bachchan\n",
      "Vidya Balan\n",
      "Paresh Rawal\n",
      "Sunny Gill\n",
      "Shreyas Talpade\n",
      "Tabu\n",
      "Shah Rukh Khan\n",
      "Amitabh Bachchan\n",
      "Siddhartha Gupta\n",
      "Shah Rukh Khan\n",
      "Tanushree Dutta\n",
      "Paul Sidhu\n",
      "Sunny Deol\n",
      "Gurdas Maan\n",
      "Master Shams\n",
      "Om Puri\n",
      "Vikrum Kumar\n",
      "Aditya Narayan\n",
      "Arshad Warsi\n",
      "Boman Irani\n",
      "Nana Patekar\n",
      "Priyanka Chopra\n",
      "Arbaaz Khan\n",
      "Rekha\n",
      "Rahul Bose\n",
      "Nana Patekar\n",
      "Sudeep\n",
      "Farooq Shaikh\n",
      "Rohit Roy\n",
      "Sachin Khedekar\n",
      "Anuj Saxena\n",
      "Akshay Kumar\n",
      "Hazel Croney\n",
      "Sanjeev Bhaskar\n",
      "Vivek Oberoi\n",
      "Abhishek Bachchan\n",
      "Atul Kulkarni\n",
      "Rajpal Yadav\n",
      "Hrithik Roshan\n",
      "Nushrat Bharucha\n",
      "Kareena Kapoor\n",
      "Bhushan Agarwal\n",
      "Prashant Narayanan\n",
      "Sanjay Dutt\n",
      "Akshay Kumar\n",
      "Ali Zafar\n",
      "Rajat Barmecha\n",
      "Ajay Devgn\n",
      "Bobby Deol\n",
      "Omkar Das Manikpuri\n",
      "Neil Nitin Mukesh\n",
      "Gul Panag\n",
      "Raj Singh Chaudhary\n",
      "John Abraham\n",
      "Barkha Madan\n",
      "Salman Khan\n",
      "Supriya Pathak\n",
      "Sunil Shetty\n",
      "Rituparna Sengupta\n",
      "Ranvir Shorey\n",
      "Mallika Sherawat\n",
      "Emraan Hashmi\n",
      "Rishi Kapoor\n",
      "Ajay Devgn\n",
      "Manoj Bajpayee\n",
      "Sanjay Dutt\n",
      "John Abraham\n",
      "Hrithik Roshan\n",
      "Varun Bhagwat\n",
      "Deepika Padukone\n",
      "Sunny Deol\n",
      "Rajat Kapoor\n",
      "Akanksha\n",
      "Jimmy Sheirgill\n",
      "Sanjay Dutt\n",
      "Ranveer Singh\n",
      "Aditya Srivastava\n",
      "Arunoday Singh\n",
      "Akshay Kumar\n",
      "Akshay Oberoi\n",
      "Ajay Devgn\n",
      "Neil Nitin Mukesh\n",
      "Sahil Khan\n",
      "Imran Khan\n",
      "Sushmita Sen\n",
      "Priyanka Chopra\n",
      "Zeenat Aman\n",
      "Bipasha Basu\n",
      "Akshay Kumar\n",
      "Aamir Khan\n",
      "Farhan Akhtar\n",
      "Saif Ali Khan\n",
      "Salman Khan\n",
      "Waheeda Rehman\n",
      "Kangana Ranaut\n",
      "Hrishitaa Bhatt\n",
      "Ranbir Kapoor\n",
      "Asrani\n",
      "Irrfan Khan\n",
      "Kay Kay Menon\n",
      "Arshad Warsi\n",
      "Paresh Rawal\n",
      "Rati Agnihotri\n",
      "Harman Baweja\n",
      "Shahid Kapoor\n",
      "Fardeen Khan\n",
      "John Abraham\n",
      "Kay Kay Menon\n",
      "Aftab Shivdasani\n",
      "Naseeruddin Shah\n",
      "Inaamulhaq\n",
      "Neil Nitin Mukesh\n",
      "Kunal Khemu\n",
      "Bobby Deol\n",
      "Anita\n",
      "Parzaan Dastur\n",
      "Meghan Jadhav\n",
      "Shreyas Talpade\n",
      "John Abraham\n",
      "Kay Kay Menon\n",
      "Sanjay Dutt\n",
      "Mithun Chakraborty\n",
      "Govinda\n",
      "Sunil Shetty\n",
      "Jackie Shroff\n",
      "Anupam Kher\n",
      "Shreyas Talpade\n",
      "Rishi Kapoor\n",
      "Rajendra Prasad\n",
      "Arjun Rampal\n",
      "Mithun Chakraborty\n",
      "Mithun Chakraborty\n",
      "Bobby Deol\n",
      "Shahid Kapoor\n",
      "Harman Baweja\n",
      "Fardeen Khan\n",
      "Sanjay Dutt\n",
      "Ranbir Kapoor\n",
      "Salman Khan\n",
      "Akshay Kumar\n",
      "Atmaram Bhende\n",
      "Amitabh Bachchan\n",
      "Salman Khan\n",
      "Manoj Bajpayee\n",
      "Emraan Hashmi\n",
      "Lewis Tan\n",
      "Akshay Kumar\n",
      "Amitabh Bachchan\n",
      "Ranbir Kapoor\n",
      "Aamir Bashir\n",
      "Farooq Shaikh\n",
      "Mithun Chakraborty\n",
      "Abhishek Bachchan\n",
      "Saif Ali Khan\n",
      "Shah Rukh Khan\n",
      "Aamir Khan\n",
      "Akshay Kumar\n",
      "Ajay Devgn\n",
      "Hrithik Roshan\n",
      "Ranbir Kapoor\n",
      "Amitabh Bachchan\n",
      "Amitabh Bachchan\n",
      "Ajay Devgn\n",
      "Omkar Bhatkar\n",
      "Shreyas Talpade\n",
      "Manisha Koirala\n",
      "Ajay Devgn\n",
      "Tusshar Kapoor\n",
      "Juhi Chawla\n",
      "Ajay Devgn\n",
      "Kay Kay Menon\n",
      "Akshay Kumar\n",
      "Dino Morea\n",
      "Mimoh Chakraborty\n",
      "Emraan Hashmi\n",
      "Mithun Chakraborty\n",
      "Sikander Kher\n",
      "Paresh Rawal\n",
      "Ahraz Ahmed\n",
      "Aftab Shivdasani\n",
      "Amita Pathak\n",
      "Saahil Chadha\n",
      "Saif Ali Khan\n",
      "Kay Kay Menon\n",
      "Shahid Kapoor\n",
      "Harman Baweja\n",
      "Adhvik Mahajan\n",
      "Vivek Oberoi\n",
      "Govinda\n",
      "Amitabh Bachchan\n",
      "Paresh Rawal\n",
      "Mallika Sherawat\n",
      "Arjun Rampal\n",
      "Tusshar Kapoor\n",
      "Bobby Deol\n",
      "Sammir Dattani\n",
      "Victor Banerjee\n",
      "Rajniesh Duggall\n",
      "Amitabh Bachchan\n",
      "Shreyas Talpade\n",
      "Kiron Kher\n",
      "Jackie Shroff\n",
      "Jayshree Arora\n",
      "Sharman Joshi\n",
      "Himesh Reshammiya\n",
      "Sohail Khan\n",
      "Saif Ali Khan\n",
      "Isha Koppikar\n",
      "Kamal Rashid Khan\n",
      "Priyanka Chopra\n",
      "Vinay Pathak\n",
      "Salman Khan\n",
      "Abhay Deol\n",
      "Vinay Pathak\n",
      "Shabana Azmi\n",
      "Manoj Bajpayee\n",
      "Anupam Kher\n",
      "Rajesh Khanna\n",
      "Dino Morea\n",
      "Irrfan Khan\n",
      "Amitabh Bachchan\n",
      "Himesh Reshammiya\n",
      "Tusshar Kapoor\n",
      "Nauheed Cyrusi\n",
      "Madhuri Dixit\n",
      "Dharmendra\n",
      "Emraan Hashmi\n",
      "Vinay Pathak\n",
      "Akshay Kumar\n",
      "Dino Morea\n",
      "Sunny Deol\n",
      "Mouli Ganguly\n",
      "Krishna Abhishek\n",
      "Irrfan Khan\n",
      "Kay Kay Menon\n",
      "Pankaj Kapur\n",
      "Jazzy Doe\n",
      "Mona Ambegaonkar\n",
      "Ajay Devgn\n",
      "Amitabh Bachchan\n",
      "Jimmy Sheirgill\n",
      "Fardeen Khan\n",
      "Shah Rukh Khan\n",
      "Sanjay Dutt\n",
      "John Abraham\n",
      "Pankaj Kapur\n",
      "Sunil Pal\n",
      "Muzamil Ibrahim\n",
      "Imaaduddin Shah\n",
      "Sharman Joshi\n",
      "Abhay Deol\n",
      "Arjun Rampal\n",
      "Akshaye Khanna\n",
      "Rishi Kapoor\n",
      "Arbaaz Khan\n",
      "Amitabh Bachchan\n",
      "Gautam Gupta\n",
      "Mohan Azaad\n",
      "Juanna Sanghvi\n",
      "Mithun Chakraborty\n",
      "Ranvir Shorey\n",
      "Govinda\n",
      "Abhishek Bachchan\n",
      "Shahid Kapoor\n",
      "Tusshar Kapoor\n",
      "Shahid Kapoor\n",
      "Shiney Ahuja\n",
      "Dharmendra\n",
      "Fardeen Khan\n",
      "Tusshar Kapoor\n",
      "Rekha\n",
      "Jimmy Sheirgill\n",
      "Rani Mukerji\n",
      "Dharmendra\n",
      "Shabana Azmi\n",
      "Abhay Deol\n",
      "Salman Khan\n",
      "Menekka Arora\n",
      "Nana Patekar\n",
      "Bobby Deol\n",
      "Linda Arsenio\n",
      "Kal Penn\n",
      "Akshay Kumar\n",
      "Jason Lewis\n",
      "Sanjay Dutt\n",
      "Amitabh Bachchan\n",
      "John Abraham\n",
      "Shah Rukh Khan\n",
      "Salman Khan\n",
      "Rahul Khanna\n",
      "Dwij Yadav\n",
      "Aftab Shivdasani\n",
      "Vinod Khanna\n",
      "Bobby Deol\n",
      "Sherlyn Chopra\n",
      "Salman Khan\n",
      "Rani Mukerji\n",
      "Mahima Chaudhry\n",
      "Mandar Jadhav\n",
      "Aftab Shivdasani\n",
      "Amitabh Bachchan\n",
      "Jimmy Sheirgill\n",
      "Manoj Bajpayee\n",
      "Darsheel Safary\n",
      "Saif Ali Khan\n",
      "Urmila Matondkar\n",
      "Kunal Khemu\n",
      "Emraan Hashmi\n",
      "Tushar Jalota\n",
      "Jaya Bachchan\n",
      "Akshay Kumar\n",
      "Akshaye Khanna\n",
      "Jeetendra\n",
      "Akshaye Khanna\n",
      "Abhay Deol\n",
      "Emraan Hashmi\n",
      "Akshay Kapoor\n",
      "Sanjay Dutt\n",
      "Bobby Darling\n",
      "Aftab Shivdasani\n",
      "Rekha\n",
      "Amitabh Bachchan\n",
      "Rati Agnihotri\n",
      "Rahul Dev\n",
      "Naseeruddin Shah\n",
      "Urmila Matondkar\n",
      "Juhi Chawla\n",
      "Akshay Kumar\n",
      "Sushmita Sen\n",
      "Jackie Shroff\n",
      "Somesh Agarwal\n",
      "Sohail Khan\n",
      "Kareena Kapoor\n",
      "Bipasha Basu\n",
      "Amitabh Bachchan\n",
      "Rajit Kapoor\n",
      "Emraan Hashmi\n",
      "Ishrat Ali\n",
      "Raj Tara\n",
      "Hrithik Roshan\n",
      "Ayesha Takia\n",
      "Shah Rukh Khan\n",
      "Amitabh Bachchan\n",
      "Aamir Khan\n",
      "Kangana Ranaut\n",
      "Ajay Devgn\n",
      "Ram Kapoor\n",
      "Sunil Shetty\n",
      "Ajay Devgn\n",
      "Akshay Kumar\n",
      "Arjun Rampal\n",
      "Arjun Rampal\n",
      "Aftab Shivdasani\n",
      "Salman Khan\n",
      "Emraan Hashmi\n",
      "Onjolee Nair\n",
      "Amarjeet\n",
      "Anupam Kher\n",
      "Amitabh Bachchan\n",
      "Rishi Kapoor\n",
      "Sanjay Dutt\n",
      "John Abraham\n",
      "Nassar Abdulla\n",
      "Rekha\n",
      "Paresh Rawal\n",
      "Ajay Devgn\n",
      "Rahul Bose\n",
      "Sunny Deol\n",
      "Akshay Kumar\n",
      "Fardeen Khan\n",
      "Akshay Kumar\n",
      "Jeetendra\n",
      "Sarika\n",
      "Aamir Khan\n",
      "Salman Khan\n",
      "Govinda\n",
      "Akshaye Khanna\n",
      "Salman Khan\n",
      "Mohit Ahlawat\n",
      "Mahima Chaudhry\n",
      "Ajay Devgn\n",
      "Mohammad Amir Naji\n",
      "Sanjay Dutt\n",
      "Irrfan Khan\n",
      "Aishwarya Rai Bachchan\n",
      "Nana Patekar\n",
      "Sunny Deol\n",
      "Shahid Kapoor\n",
      "Priyanshu Chatterjee\n",
      "Gurdas Maan\n",
      "Kangana Ranaut\n",
      "Paresh Rawal\n",
      "Jimmy Sheirgill\n",
      "Sushmita Sen\n",
      "Rakesh Bedi\n",
      "Emraan Hashmi\n",
      "Manisha Koirala\n",
      "Ajay Devgn\n",
      "Rekha\n",
      "Juhi Chawla\n",
      "Bobby Deol\n",
      "Anil Kapoor\n",
      "Amitabh Bachchan\n",
      "Sanjay Dutt\n",
      "Abhishek Bachchan\n",
      "Shawar Ali\n",
      "Ali Asgar\n",
      "Tabu\n",
      "Ajay Devgn\n",
      "Abhishek Bachchan\n",
      "Aryan Vaid\n",
      "Jatin Grewal\n",
      "Samir Aftab\n",
      "Anil Kapoor\n",
      "Randeep Hooda\n",
      "Akshay Kumar\n",
      "Saayli Buva\n",
      "Bipasha Basu\n",
      "Amitabh Bachchan\n",
      "Akshay Kumar\n",
      "Mithun Chakraborty\n",
      "Sanjay Dutt\n",
      "Arjun Rampal\n",
      "Shilpa Shetty Kundra\n",
      "Amitabh Bachchan\n",
      "Siddharth Koirala\n",
      "Fardeen Khan\n",
      "Ayesha Jhulka\n",
      "Aseel Adel\n",
      "Vivek Oberoi\n",
      "Akshay Kumar\n",
      "Shreyas Talpade\n",
      "Chiranjeevi\n",
      "Kay Kay Menon\n",
      "Akshay Kumar\n",
      "Sunny Deol\n",
      "John Abraham\n",
      "Ajay Devgn\n",
      "Kunal Khemu\n",
      "Lucky Ali\n",
      "Mukesh Khanna\n",
      "Mohit Ahlawat\n",
      "Vivek Oberoi\n",
      "Aftab Shivdasani\n",
      "Shilpa Shetty Kundra\n",
      "Kamal Adib\n",
      "Arshad Warsi\n",
      "Tusshar Kapoor\n",
      "Salman Khan\n",
      "Ajay Devgn\n",
      "Salman Khan\n",
      "Rajpal Yadav\n",
      "Anupam Kher\n",
      "Salman Khan\n",
      "Aamir Khan\n",
      "Dia Mirza\n",
      "Dev Anand\n",
      "Sanjay Suri\n",
      "Anil Kapoor\n",
      "Urmila Matondkar\n",
      "Uday Chopra\n",
      "Anil Kapoor\n",
      "Sunil Shetty\n",
      "Konkona Sen Sharma\n",
      "Shabana Azmi\n",
      "Saif Ali Khan\n",
      "Vinod Khanna\n",
      "Shah Rukh Khan\n",
      "Irrfan Khan\n",
      "Rishi Kapoor\n",
      "Saif Ali Khan\n",
      "Kashmira Shah\n",
      "Amitabh Bachchan\n",
      "Arshad Warsi\n",
      "Sanjay Dutt\n",
      "Ashutosh Rana\n",
      "Neha Dhupia\n",
      "Madhavan\n",
      "Tabu\n",
      "Abhay Deol\n",
      "Zulfi Sayed\n",
      "Ajay Devgn\n",
      "Nassar Abdulla\n",
      "Arjun Rampal\n",
      "Shahid Kapoor\n",
      "Aarti Chhabria\n",
      "Fardeen Khan\n",
      "Amitabh Bachchan\n",
      "Amitabh Bachchan\n",
      "Vikram Aditya\n",
      "Arjun Rampal\n",
      "Emraan Hashmi\n",
      "Shah Rukh Khan\n",
      "Shah Rukh Khan\n",
      "Ajay Devgn\n",
      "Salman Khan\n",
      "Abhishek Bachchan\n",
      "Amitabh Bachchan\n",
      "Saif Ali Khan\n",
      "Akshaye Khanna\n",
      "Mallika Sherawat\n",
      "Ajay Devgn\n",
      "Akshay Kumar\n",
      "Amitabh Bachchan\n",
      "Amitabh Bachchan\n",
      "Shatrughan Sinha\n",
      "Bobby Deol\n",
      "Kareena Kapoor\n",
      "Jimmy Sheirgill\n",
      "Arjun Rampal\n",
      "Jimmy Sheirgill\n",
      "Amitabh Bachchan\n",
      "Amitabh Bachchan\n",
      "Shahid Kapoor\n",
      "Salman Khan\n",
      "Jackie Shroff\n",
      "Naveen Bawa\n",
      "Vikaas Kalantari\n",
      "Tusshar Kapoor\n",
      "Kareena Kapoor\n",
      "Salman Khan\n",
      "Sunil Shetty\n",
      "Saif Ali Khan\n",
      "Isha Koppikar\n",
      "Akshay Kumar\n",
      "Aniket Vishwasrao\n",
      "Shawar Ali\n",
      "Tisca Chopra\n",
      "Neha Dhupia\n",
      "Raqesh Bapat\n",
      "Manoj Bajpayee\n",
      "Mallika Sherawat\n",
      "Dino Morea\n",
      "Sohail Khan\n",
      "Kiron Kher\n",
      "Bobby Deol\n",
      "Sunny Deol\n",
      "Sohail Khan\n",
      "Amitabh Bachchan\n",
      "Bipasha Basu\n",
      "Hrithik Roshan\n",
      "Dino Morea\n",
      "Irrfan Khan\n",
      "Aftab Shivdasani\n",
      "Tabu\n",
      "Anil Kapoor\n",
      "Prithviraj Kapoor\n",
      "Aftab Shivdasani\n",
      "Akshay Kumar\n",
      "Antara Mali\n",
      "Vinay Anand\n",
      "John Abraham\n",
      "Salman Khan\n",
      "Sanjay Dutt\n",
      "Akshay Kumar\n",
      "Manisha Koirala\n",
      "Akshay Kapoor\n",
      "Sanjay Dutt\n",
      "Ajay Devgn\n",
      "Sanjay Dutt\n",
      "Sanjay Suri\n",
      "Abhishek Bachchan\n",
      "Sunny Deol\n",
      "Aftab Shivdasani\n",
      "Shah Rukh Khan\n",
      "Vatsal Sheth\n",
      "Madhavan\n",
      "Tusshar Kapoor\n",
      "Emraan Hashmi\n",
      "Vicky Ahuja\n",
      "Shah Rukh Khan\n",
      "Tarun Arora\n",
      "Diwakar Pathak\n",
      "Arya Babbar\n",
      "Rekha\n",
      "Shah Rukh Khan\n",
      "Anupam Kher\n",
      "Shah Rukh Khan\n",
      "Sunny Deol\n",
      "Amitabh Bachchan\n",
      "Hrithik Roshan\n",
      "Sanjay Dutt\n",
      "Sanjay Dutt\n",
      "Sanjay Dutt\n",
      "Ajay Devgn\n",
      "Atul Kulkarni\n",
      "Naseeruddin Shah\n",
      "Arun Bakshi\n",
      "Priyanshu Chatterjee\n",
      "Ajay Devgn\n",
      "Amitabh Bachchan\n",
      "Sudesh Berry\n",
      "Akshay Kumar\n",
      "Akshay Kumar\n",
      "Amitabh Bachchan\n",
      "Ajay Devgn\n",
      "Anil Kapoor\n",
      "Jackie Shroff\n",
      "Sadashiv Amrapurkar\n",
      "Sooraj Balaji\n",
      "Arjun Rampal\n",
      "Sameera Reddy\n",
      "Om Puri\n",
      "Amar Upadhyaya\n",
      "Zayed Khan\n",
      "Nawazuddin Siddiqui\n",
      "Vivek Oberoi\n",
      "Kapil Jhaveri\n",
      "Nandita Das\n",
      "Aftab Shivdasani\n",
      "Manisha Koirala\n",
      "Rahul Bose\n",
      "Ajay Devgn\n",
      "Tabu\n",
      "Jimmy Sheirgill\n",
      "Sanjay Dutt\n",
      "Akshaye Khanna\n",
      "Vikram Dasu\n",
      "Reef Karim\n",
      "Jaz Pandher\n",
      "Rushali Arora\n",
      "Ashmit Patel\n",
      "Sunny Deol\n",
      "Shahid Kapoor\n",
      "Babbu Mann\n",
      "Javed Jaffrey\n",
      "Bipasha Basu\n",
      "Sanjay Suri\n",
      "Om Puri\n",
      "Juhi Babbar\n",
      "Sunny Deol\n",
      "Feroz Khan\n",
      "Amit Hingorani\n",
      "Fardeen Khan\n",
      "Himanshu Malik\n",
      "Tusshar Kapoor\n",
      "Aishwarya Rai Bachchan\n",
      "Antara Mali\n",
      "Victor Banerjee\n",
      "Manisha Koirala\n",
      "Attin Bhalla\n",
      "Riteish Deshmukh\n",
      "Rahul Bose\n",
      "Tulip Joshi\n",
      "Ajay Devgn\n",
      "Urmila Matondkar\n",
      "Abhishek Bachchan\n",
      "John Abraham\n",
      "Sushmita Sen\n",
      "Vikas Kalantri\n",
      "Raveena Tandon\n",
      "Tanishaa Mukerji\n",
      "Raveena Tandon\n",
      "Vijay Raaz\n",
      "Raveena Tandon\n",
      "Tanuja\n",
      "Ankit\n",
      "Sadashiv Amrapurkar\n",
      "Salman Khan\n",
      "Riteish Deshmukh\n",
      "Rakhee Gulzar\n",
      "Shabana Azmi\n",
      "Edwin Fernandes\n",
      "Tusshar Kapoor\n",
      "Sharman Joshi\n",
      "Dino Morea\n",
      "Ajay Devgn\n",
      "Arshad Warsi\n",
      "Shah Rukh Khan\n",
      "Amitabh Bachchan\n",
      "Shah Rukh Khan\n",
      "Amitabh Bachchan\n",
      "Vivek Oberoi\n",
      "Ajay Devgn\n",
      "Akshay Kumar\n"
     ]
    }
   ],
   "source": [
    "# looping\n",
    "for i in movies: # loops works on values\n",
    "    print(i)"
   ]
  },
  {
   "cell_type": "code",
   "execution_count": 116,
   "metadata": {
    "id": "XPYoq68WuBZ_"
   },
   "outputs": [
    {
     "data": {
      "text/plain": [
       "Math       33\n",
       "english     0\n",
       "science    11\n",
       "hindi       0\n",
       "sst        10\n",
       "dtype: int64"
      ]
     },
     "execution_count": 116,
     "metadata": {},
     "output_type": "execute_result"
    }
   ],
   "source": [
    "# Arithmetic Operators (Broad casting)\n",
    " 100 - marks_series"
   ]
  },
  {
   "cell_type": "code",
   "execution_count": 118,
   "metadata": {
    "id": "L3uIP0BJuEKf"
   },
   "outputs": [
    {
     "data": {
      "text/plain": [
       "match_no\n",
       "1      False\n",
       "2      False\n",
       "3      False\n",
       "4      False\n",
       "5      False\n",
       "       ...  \n",
       "211    False\n",
       "212    False\n",
       "213     True\n",
       "214    False\n",
       "215    False\n",
       "Name: runs, Length: 215, dtype: bool"
      ]
     },
     "execution_count": 118,
     "metadata": {},
     "output_type": "execute_result"
    }
   ],
   "source": [
    "# Relational Operators\n",
    "vk >= 50"
   ]
  },
  {
   "cell_type": "markdown",
   "metadata": {
    "id": "nrtnwvD0O515"
   },
   "source": [
    "### Boolean Indexing on Series"
   ]
  },
  {
   "cell_type": "code",
   "execution_count": 121,
   "metadata": {
    "id": "XcyU25jLO9ft"
   },
   "outputs": [
    {
     "data": {
      "text/plain": [
       "50"
      ]
     },
     "execution_count": 121,
     "metadata": {},
     "output_type": "execute_result"
    }
   ],
   "source": [
    "# Find no of 50's and 100's scored by kohli\n",
    "vk[vk >= 50 ].size"
   ]
  },
  {
   "cell_type": "code",
   "execution_count": 122,
   "metadata": {
    "id": "37QxNConO904"
   },
   "outputs": [
    {
     "data": {
      "text/plain": [
       "9"
      ]
     },
     "execution_count": 122,
     "metadata": {},
     "output_type": "execute_result"
    }
   ],
   "source": [
    "# find number of ducks\n",
    "vk[vk == 0].size"
   ]
  },
  {
   "cell_type": "code",
   "execution_count": 124,
   "metadata": {
    "id": "p-Hft0kSvBn2"
   },
   "outputs": [
    {
     "data": {
      "text/plain": [
       "59"
      ]
     },
     "execution_count": 124,
     "metadata": {},
     "output_type": "execute_result"
    }
   ],
   "source": [
    "# Count number of day when I had more than 200 subs a day\n",
    "subs[subs > 200].size"
   ]
  },
  {
   "cell_type": "code",
   "execution_count": 126,
   "metadata": {
    "id": "fZM3OCApvsZe"
   },
   "outputs": [
    {
     "data": {
      "text/plain": [
       "Akshay Kumar        48\n",
       "Amitabh Bachchan    45\n",
       "Ajay Devgn          38\n",
       "Salman Khan         31\n",
       "Sanjay Dutt         26\n",
       "Shah Rukh Khan      22\n",
       "Emraan Hashmi       21\n",
       "Name: lead, dtype: int64"
      ]
     },
     "execution_count": 126,
     "metadata": {},
     "output_type": "execute_result"
    }
   ],
   "source": [
    "# find actors who have done more than 20 movies\n",
    "num_movies = movies.value_counts()\n",
    "num_movies[num_movies > 20]"
   ]
  },
  {
   "cell_type": "markdown",
   "metadata": {
    "id": "PQjv9hm-42Jr"
   },
   "source": [
    "### Plotting Graphs on Series"
   ]
  },
  {
   "cell_type": "code",
   "execution_count": 127,
   "metadata": {
    "id": "WVEQvPTw40KE"
   },
   "outputs": [
    {
     "data": {
      "text/plain": [
       "<AxesSubplot:>"
      ]
     },
     "execution_count": 127,
     "metadata": {},
     "output_type": "execute_result"
    },
    {
     "data": {
      "image/png": "[encoded data removed]",
      "text/plain": [
       "<Figure size 432x288 with 1 Axes>"
      ]
     },
     "metadata": {
      "needs_background": "light"
     },
     "output_type": "display_data"
    }
   ],
   "source": [
    "subs.plot()"
   ]
  },
  {
   "cell_type": "code",
   "execution_count": 131,
   "metadata": {},
   "outputs": [
    {
     "data": {
      "text/plain": [
       "<AxesSubplot:ylabel='lead'>"
      ]
     },
     "execution_count": 131,
     "metadata": {},
     "output_type": "execute_result"
    },
    {
     "data": {
      "image/png": "[encoded data removed]",
      "text/plain": [
       "<Figure size 432x288 with 1 Axes>"
      ]
     },
     "metadata": {},
     "output_type": "display_data"
    }
   ],
   "source": [
    "movies.value_counts().head(20).plot(kind='pie')"
   ]
  },
  {
   "cell_type": "markdown",
   "metadata": {
    "id": "3fl2mDQgPsz_"
   },
   "source": [
    "### Some Important Series Methods"
   ]
  },
  {
   "cell_type": "code",
   "execution_count": null,
   "metadata": {
    "id": "HRw5A2lhKn97"
   },
   "outputs": [],
   "source": [
    "# agg\n",
    "# astype\n",
    "# between\n",
    "# clip\n",
    "# drop_duplicates\n",
    "# dropna\n",
    "# fillna\n",
    "# filter\n",
    "# iloc\n",
    "# isnull\n",
    "# map\n",
    "# filter"
   ]
  },
  {
   "cell_type": "code",
   "execution_count": null,
   "metadata": {
    "id": "7ziyhORZ0Oy1"
   },
   "outputs": [],
   "source": []
  }
 ],
 "metadata": {
  "colab": {
   "provenance": []
  },
  "kernelspec": {
   "display_name": "Python 3",
   "language": "python",
   "name": "python3"
  },
  "language_info": {
   "codemirror_mode": {
    "name": "ipython",
    "version": 3
   },
   "file_extension": ".py",
   "mimetype": "text/x-python",
   "name": "python",
   "nbconvert_exporter": "python",
   "pygments_lexer": "ipython3",
   "version": "3.6.12"
  }
 },
 "nbformat": 4,
 "nbformat_minor": 1
}
